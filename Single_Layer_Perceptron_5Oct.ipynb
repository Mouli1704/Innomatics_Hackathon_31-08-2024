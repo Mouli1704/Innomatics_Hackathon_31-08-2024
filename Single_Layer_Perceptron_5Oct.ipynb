{
  "nbformat": 4,
  "nbformat_minor": 0,
  "metadata": {
    "colab": {
      "provenance": [],
      "include_colab_link": true
    },
    "kernelspec": {
      "name": "python3",
      "display_name": "Python 3"
    },
    "language_info": {
      "name": "python"
    }
  },
  "cells": [
    {
      "cell_type": "markdown",
      "metadata": {
        "id": "view-in-github",
        "colab_type": "text"
      },
      "source": [
        "<a href=\"https://colab.research.google.com/github/Mouli1704/Innomatics_Hackathon_31-08-2024/blob/main/Single_Layer_Perceptron_5Oct.ipynb\" target=\"_parent\"><img src=\"https://colab.research.google.com/assets/colab-badge.svg\" alt=\"Open In Colab\"/></a>"
      ]
    },
    {
      "cell_type": "markdown",
      "source": [
        "**# Single Layer perceptron**"
      ],
      "metadata": {
        "id": "DRKooaJQfnGc"
      }
    },
    {
      "cell_type": "code",
      "source": [
        "import numpy as np\n",
        "import matplotlib.pyplot as plt\n",
        "import pandas as pd"
      ],
      "metadata": {
        "id": "4KlUMNV_fqIb"
      },
      "execution_count": null,
      "outputs": []
    },
    {
      "cell_type": "code",
      "source": [
        "\n",
        "# Initialize the small binary classification dataset\n",
        "X = np.array([[2, 1], [1, -1], [-1, -2], [-2, 1]])  # Features\n",
        "y = np.array([1, 0, 0, 1])  # Labels"
      ],
      "metadata": {
        "id": "Kh0-C1lQfwic"
      },
      "execution_count": null,
      "outputs": []
    },
    {
      "cell_type": "code",
      "source": [
        "X"
      ],
      "metadata": {
        "colab": {
          "base_uri": "https://localhost:8080/"
        },
        "id": "3Apqskt3fzqt",
        "outputId": "93242028-3430-4445-e1bb-5451d21625cf"
      },
      "execution_count": null,
      "outputs": [
        {
          "output_type": "execute_result",
          "data": {
            "text/plain": [
              "array([[ 2,  1],\n",
              "       [ 1, -1],\n",
              "       [-1, -2],\n",
              "       [-2,  1]])"
            ]
          },
          "metadata": {},
          "execution_count": 15
        }
      ]
    },
    {
      "cell_type": "code",
      "source": [
        "y"
      ],
      "metadata": {
        "colab": {
          "base_uri": "https://localhost:8080/"
        },
        "id": "RYnSEiy6f0Qw",
        "outputId": "f411aa6b-82d0-4468-a6ff-6848a288a6c3"
      },
      "execution_count": null,
      "outputs": [
        {
          "output_type": "execute_result",
          "data": {
            "text/plain": [
              "array([1, 0, 0, 1])"
            ]
          },
          "metadata": {},
          "execution_count": 16
        }
      ]
    },
    {
      "cell_type": "code",
      "source": [
        "## Parameters for the SLP\n",
        "epochs = 5\n",
        "learning_rate = 0.1\n",
        "m, n = X.shape # m number of rows/training examples and n = no.of features\n",
        "print('number of features/columns:', n)\n",
        "print('number of rows:', m)"
      ],
      "metadata": {
        "colab": {
          "base_uri": "https://localhost:8080/"
        },
        "id": "sVphF9iif1BP",
        "outputId": "a3493d3f-111d-4a06-b535-2c145dd81cd3"
      },
      "execution_count": null,
      "outputs": [
        {
          "output_type": "stream",
          "name": "stdout",
          "text": [
            "number of features/columns: 2\n",
            "number of rows: 4\n"
          ]
        }
      ]
    },
    {
      "cell_type": "code",
      "source": [
        "### Initialize weights and bias\n",
        "weights = np.array([0.5, -0.5])\n",
        "bias = 0.1"
      ],
      "metadata": {
        "id": "AQPovIOjgN_J"
      },
      "execution_count": null,
      "outputs": []
    },
    {
      "cell_type": "code",
      "source": [
        "### Step function as activation function\n",
        "def step_function(z):\n",
        "  return 1 if z >=0 else 0\n"
      ],
      "metadata": {
        "id": "bP5zrt_Cgb-g"
      },
      "execution_count": null,
      "outputs": []
    },
    {
      "cell_type": "code",
      "source": [
        "### Perceptron training with cost tracking\n",
        "cost_history = [] #empty list to track/monitor the cost values\n",
        "weights_bias_history = [] #empty list to track the weight & bias\n",
        "\n",
        "for epoch in range(epochs):\n",
        "  total_error = 0\n",
        "\n",
        "  for i in range(m):\n",
        "\n",
        "    #compute the weighted sum (Z)\n",
        "    z = np.dot(weights, X[i])+bias\n",
        "\n",
        "    # predict the output using activation function - step function\n",
        "    prediction = step_function(z)\n",
        "\n",
        "    # calculate the error\n",
        "    error = y[i] - prediction\n",
        "\n",
        "    ## Update the weights and bias if there is an error\n",
        "    weights += learning_rate * error * X[i]\n",
        "    bias += learning_rate * error\n",
        "\n",
        "    ### Cumulative error\n",
        "    total_error += error **2\n",
        "\n",
        "    ### Track weights and bias after each update\n",
        "    weights_bias_history.append((epoch+1, i+1, weights.copy(), bias))\n",
        "\n",
        "  # Store the total error after each epoch\n",
        "  cost_history.append(total_error)\n",
        "\n",
        "## convert history to dataframe for readability\n",
        "df_weights_bias_history = pd.DataFrame(weights_bias_history, columns = ['Epoch', 'Row/Training_Example', 'Weights', 'Bias'])\n",
        "print(df_weights_bias_history)\n",
        "\n",
        "## Plotting the cost function over the epoch\n",
        "plt.figure(figsize=(8,5))\n",
        "plt.plot(range(1, epochs + 1), cost_history, marker='o', color='purple')\n",
        "plt.title('Cost Function vs Epochs')\n",
        "plt.xlabel('Epoch')\n",
        "plt.ylabel('Cost - Sum of Squared Error (SSE)')\n",
        "plt.grid(True)\n",
        "plt.show()\n",
        "\n",
        "\n",
        "### Print the final weights and bias after training\n",
        "print('Final Weights:', weights)\n",
        "print('Final Bias:', bias)"
      ],
      "metadata": {
        "colab": {
          "base_uri": "https://localhost:8080/",
          "height": 886
        },
        "id": "M2cFSr-5gk9k",
        "outputId": "5e3b53ca-f39d-4777-aaac-b520c8a91a77"
      },
      "execution_count": null,
      "outputs": [
        {
          "output_type": "stream",
          "name": "stdout",
          "text": [
            "    Epoch  Row/Training_Example                         Weights  Bias\n",
            "0       1                     1                     [0.5, -0.5]   0.1\n",
            "1       1                     2                     [0.4, -0.4]   0.0\n",
            "2       1                     3                     [0.5, -0.2]  -0.1\n",
            "3       1                     4                     [0.3, -0.1]   0.0\n",
            "4       2                     1                     [0.3, -0.1]   0.0\n",
            "5       2                     2      [0.19999999999999998, 0.0]  -0.1\n",
            "6       2                     3      [0.19999999999999998, 0.0]  -0.1\n",
            "7       2                     4  [-2.7755575615628914e-17, 0.1]   0.0\n",
            "8       3                     1  [-2.7755575615628914e-17, 0.1]   0.0\n",
            "9       3                     2  [-2.7755575615628914e-17, 0.1]   0.0\n",
            "10      3                     3  [-2.7755575615628914e-17, 0.1]   0.0\n",
            "11      3                     4  [-2.7755575615628914e-17, 0.1]   0.0\n",
            "12      4                     1  [-2.7755575615628914e-17, 0.1]   0.0\n",
            "13      4                     2  [-2.7755575615628914e-17, 0.1]   0.0\n",
            "14      4                     3  [-2.7755575615628914e-17, 0.1]   0.0\n",
            "15      4                     4  [-2.7755575615628914e-17, 0.1]   0.0\n",
            "16      5                     1  [-2.7755575615628914e-17, 0.1]   0.0\n",
            "17      5                     2  [-2.7755575615628914e-17, 0.1]   0.0\n",
            "18      5                     3  [-2.7755575615628914e-17, 0.1]   0.0\n",
            "19      5                     4  [-2.7755575615628914e-17, 0.1]   0.0\n"
          ]
        },
        {
          "output_type": "display_data",
          "data": {
            "text/plain": [
              "<Figure size 800x500 with 1 Axes>"
            ],
            "image/png": "[encoded data removed]"
          },
          "metadata": {}
        },
        {
          "output_type": "stream",
          "name": "stdout",
          "text": [
            "Final Weights: [-2.77555756e-17  1.00000000e-01]\n",
            "Final Bias: 0.0\n"
          ]
        }
      ]
    },
    {
      "cell_type": "code",
      "source": [
        "-2.7755575615628914e-17"
      ],
      "metadata": {
        "colab": {
          "base_uri": "https://localhost:8080/"
        },
        "id": "0E6Tgl0DkNcz",
        "outputId": "02fbf9b6-de8a-4b25-ec16-345ef6a65258"
      },
      "execution_count": null,
      "outputs": [
        {
          "output_type": "execute_result",
          "data": {
            "text/plain": [
              "-2.7755575615628914e-17"
            ]
          },
          "metadata": {},
          "execution_count": 21
        }
      ]
    },
    {
      "cell_type": "markdown",
      "source": [
        "−2.7755575615628914e−17=−0.000000000000000027755575615628914"
      ],
      "metadata": {
        "id": "dRo25Co7k-2V"
      }
    },
    {
      "cell_type": "code",
      "source": [
        "cost_history"
      ],
      "metadata": {
        "colab": {
          "base_uri": "https://localhost:8080/"
        },
        "id": "AbnHb7-Mk2VW",
        "outputId": "be7f0f62-2e2a-4595-d2cf-fbe1e6913efa"
      },
      "execution_count": null,
      "outputs": [
        {
          "output_type": "execute_result",
          "data": {
            "text/plain": [
              "[3, 2, 0, 0, 0]"
            ]
          },
          "metadata": {},
          "execution_count": 22
        }
      ]
    },
    {
      "cell_type": "code",
      "source": [],
      "metadata": {
        "id": "ygR9BJHtlKta"
      },
      "execution_count": null,
      "outputs": []
    }
  ]
}