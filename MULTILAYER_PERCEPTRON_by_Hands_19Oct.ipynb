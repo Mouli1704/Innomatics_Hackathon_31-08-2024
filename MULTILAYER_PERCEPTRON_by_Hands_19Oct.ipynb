{
  "cells": [
    {
      "cell_type": "markdown",
      "metadata": {
        "id": "view-in-github",
        "colab_type": "text"
      },
      "source": [
        "<a href=\"https://colab.research.google.com/github/Mouli1704/Innomatics_Hackathon_31-08-2024/blob/main/MULTILAYER_PERCEPTRON_by_Hands_19Oct.ipynb\" target=\"_parent\"><img src=\"https://colab.research.google.com/assets/colab-badge.svg\" alt=\"Open In Colab\"/></a>"
      ]
    },
    {
      "cell_type": "markdown",
      "id": "26755d2f",
      "metadata": {
        "id": "26755d2f"
      },
      "source": [
        "### IRIS Flowers"
      ]
    },
    {
      "cell_type": "markdown",
      "id": "07858cd5",
      "metadata": {
        "id": "07858cd5"
      },
      "source": [
        "![image.png](attachment:image.png)\n",
        "\n",
        "CLASS - 0 : SETOSA            |  CLASS - 1 : VERSICOLOR                        | CLASS - 2 : VIRGINICA"
      ]
    },
    {
      "cell_type": "markdown",
      "id": "79ce9660",
      "metadata": {
        "id": "79ce9660"
      },
      "source": [
        "### Import the certain libraries"
      ]
    },
    {
      "cell_type": "code",
      "execution_count": null,
      "id": "db0afdf8",
      "metadata": {
        "id": "db0afdf8"
      },
      "outputs": [],
      "source": [
        "import numpy as np\n",
        "import pandas as pd\n",
        "from sklearn.datasets import load_iris\n",
        "from sklearn.preprocessing import OneHotEncoder\n",
        "from sklearn.model_selection import train_test_split\n",
        "from sklearn.neural_network import MLPClassifier #scikit library\n",
        "from sklearn.metrics import classification_report, accuracy_score\n",
        "import matplotlib.pyplot as plt"
      ]
    },
    {
      "cell_type": "markdown",
      "id": "40fdc057",
      "metadata": {
        "id": "40fdc057"
      },
      "source": [
        "### Step #1 Load the IRIS dataset"
      ]
    },
    {
      "cell_type": "markdown",
      "id": "f8aed3c1",
      "metadata": {
        "id": "f8aed3c1"
      },
      "source": [
        "## MULTILAYER PERCEPTRON"
      ]
    },
    {
      "cell_type": "markdown",
      "id": "2c9a8282",
      "metadata": {
        "id": "2c9a8282"
      },
      "source": [
        "`MLP implementation architecture`"
      ]
    },
    {
      "cell_type": "markdown",
      "id": "246eb839",
      "metadata": {
        "id": "246eb839"
      },
      "source": [
        "##### `Input Layer` --> `ONE Hidden Layer` --> `Output Layer`"
      ]
    },
    {
      "cell_type": "code",
      "execution_count": null,
      "id": "4b4db7fe",
      "metadata": {
        "id": "4b4db7fe"
      },
      "outputs": [],
      "source": [
        "class NeuralNetwork:\n",
        "    def __init__(self, input_size, hidden_size, output_size, learning_rate = 0.01, epochs=100):\n",
        "        self.input_size = input_size #no. of input features or variables in the input layer\n",
        "        self.hidden_size = hidden_size # no. of neurons in the hidden layer\n",
        "        self.output_size = output_size # no. of neurons in the output layer\n",
        "        self.learning_rate = learning_rate #learning rate for the gradient descent step\n",
        "        self.epochs = epochs #no. of training_epochs\n",
        "\n",
        "        #############################\n",
        "        # INPUT LAYER to HIDDEN LAYER\n",
        "        #############################\n",
        "\n",
        "        ### Initialize weights and biases from input layer to hidden neurons --> INPUT LAYER to HIDDEN LAYER\n",
        "        self.W1 = np.random.randn(self.input_size, self.hidden_size) # assigning random weights taken as sample from normal distribution input to hidden neurons --> weights\n",
        "        self.b1 = np.zeros(1, self.hidden_size) # input neurons to hidden layer neurons --> bias\n",
        "\n",
        "         #############################\n",
        "        # HIDDEN LAYER to OUTPUT LAYER\n",
        "        #############################\n",
        "        self.W2 = np.random.randn(self.hidden_size, self.output_size) #hidden neurons to output neurons --> weights\n",
        "        self.b2 = np.zeros(1, self.output_size) ## hidden neurons to output neuron --> bias\n",
        "\n",
        "        ### Loss history for plotting\n",
        "        self.loss_history = [] #empty list initialized to store the loss values during training epochs\n",
        ""
      ]
    },
    {
      "cell_type": "code",
      "execution_count": null,
      "id": "a1f42360",
      "metadata": {
        "id": "a1f42360",
        "outputId": "bfe4babf-ed89-4b03-ef46-36526add9239"
      },
      "outputs": [
        {
          "data": {
            "text/plain": [
              "array([[ 0.14562119,  0.3452565 ,  0.875067  ,  0.78670118, -0.46636544,\n",
              "         1.93220157,  0.39814753, -0.18626178],\n",
              "       [-1.10862075,  0.09268733,  0.20008288, -0.54141526, -1.36923781,\n",
              "         1.02734962, -0.01938878,  3.05329301],\n",
              "       [ 0.51049698,  0.08601419,  1.00242115,  0.09314517, -0.58217736,\n",
              "         0.11899528, -1.0433266 ,  0.64241804],\n",
              "       [ 0.67318723,  0.87244788, -0.01664614, -1.2590075 ,  0.10981888,\n",
              "         2.33911046,  0.20681725, -0.91310011]])"
            ]
          },
          "execution_count": 12,
          "metadata": {},
          "output_type": "execute_result"
        }
      ],
      "source": [
        "np.random.randn(4, 8)"
      ]
    },
    {
      "cell_type": "markdown",
      "id": "a5193ac1",
      "metadata": {
        "id": "a5193ac1"
      },
      "source": [
        "![image.png](attachment:image.png)"
      ]
    },
    {
      "cell_type": "markdown",
      "id": "2443005d",
      "metadata": {
        "id": "2443005d"
      },
      "source": [
        "![image.png](attachment:image.png)"
      ]
    },
    {
      "cell_type": "markdown",
      "id": "e9f17355",
      "metadata": {
        "id": "e9f17355"
      },
      "source": [
        "![image.png](attachment:image.png)"
      ]
    },
    {
      "cell_type": "markdown",
      "id": "eda32cc1",
      "metadata": {
        "id": "eda32cc1"
      },
      "source": [
        "![image.png](attachment:image.png)"
      ]
    },
    {
      "cell_type": "markdown",
      "id": "33f7237e",
      "metadata": {
        "id": "33f7237e"
      },
      "source": [
        "## Activation Functions"
      ]
    },
    {
      "cell_type": "markdown",
      "id": "49e2a02c",
      "metadata": {
        "id": "49e2a02c"
      },
      "source": [
        "#### `DETAILED ACTIVATION FUNCTIONS - MATHEMATICS to CODING will be done in a dedicated session`"
      ]
    },
    {
      "cell_type": "code",
      "execution_count": null,
      "id": "cf3b5365",
      "metadata": {
        "id": "cf3b5365"
      },
      "outputs": [],
      "source": [
        "### Relu Activation Function\n",
        "def relu(self, x):\n",
        "    return np.maximum(0, x)\n",
        "\n",
        "### Binary classification\n",
        "def sigmoid(self, x):\n",
        "    return 1/(1 + np.exp(-x))\n",
        "\n",
        "### Multi-class classification\n",
        "def softmax(self, x):\n",
        "    exp_values = np.exp(x - np.max(x, axis=1, keepdims = True))\n",
        "    return exp_values/np.sum(exp_values, axis=1, keepdims = True)"
      ]
    },
    {
      "cell_type": "markdown",
      "id": "25f600de",
      "metadata": {
        "id": "25f600de"
      },
      "source": [
        "### Forward Propagation\n",
        "\n",
        "`feed-forward propagation`"
      ]
    },
    {
      "cell_type": "markdown",
      "id": "9bda4236",
      "metadata": {
        "id": "9bda4236"
      },
      "source": [
        "![image.png](attachment:image.png)"
      ]
    },
    {
      "cell_type": "markdown",
      "id": "a588a17a",
      "metadata": {
        "id": "a588a17a"
      },
      "source": [
        "![image.png](attachment:image.png)"
      ]
    },
    {
      "cell_type": "code",
      "execution_count": null,
      "id": "a028cc57",
      "metadata": {
        "id": "a028cc57"
      },
      "outputs": [],
      "source": [
        "def forward(self, X):\n",
        "\n",
        "    ### Forward propagation through the neural network\n",
        "\n",
        "     #############################\n",
        "    # INPUT LAYER to HIDDEN LAYER\n",
        "    #############################\n",
        "    self.z1 = np.dot(X, self.W1) + self.b1\n",
        "    self.a1 = self.relu(self.z1) #computes the activation function in the hidden layer using ReLU(Rectified Linear Unit)\n",
        "\n",
        "    #############################\n",
        "    # HIDDEN LAYER to OUTPUT LAYER\n",
        "    #############################\n",
        "    self.z2 = np.dot(self.a1, self.W2) + self.b2\n",
        "    self.probs = self.softmax(self.z2) #computes the probabilities using Softmax for multi-class classification\n",
        "\n",
        "    return self.probs"
      ]
    },
    {
      "cell_type": "markdown",
      "id": "47b325a6",
      "metadata": {
        "id": "47b325a6"
      },
      "source": [
        "### Cross-entropy loss for multi-class classification"
      ]
    },
    {
      "cell_type": "code",
      "execution_count": null,
      "id": "0bb6f71c",
      "metadata": {
        "id": "0bb6f71c"
      },
      "outputs": [],
      "source": [
        "def compute_loss(self, y_true, probs):\n",
        "\n",
        "    ### y_true is one-hot encoded\n",
        "    loss = - np.mean(np.sum(y_true * np.log(probs), axis =1))\n",
        "    return loss"
      ]
    },
    {
      "cell_type": "markdown",
      "id": "0138761c",
      "metadata": {
        "id": "0138761c"
      },
      "source": [
        "### Compute accuracy"
      ]
    },
    {
      "cell_type": "code",
      "execution_count": null,
      "id": "5146282b",
      "metadata": {
        "id": "5146282b"
      },
      "outputs": [],
      "source": [
        "def compute_accuracy(self, y_true, probs):\n",
        "    predictions = np.argmax(probs, axis=1)\n",
        "    true_labels = np.argmax(y_true, axis=1)\n",
        "    return np.mean(predictions == true_labels)"
      ]
    },
    {
      "cell_type": "markdown",
      "id": "387a5625",
      "metadata": {
        "id": "387a5625"
      },
      "source": [
        "### Backward Propagation\n",
        "\n",
        "`backward propagation to`update the weights and biases **iteratively per epoch**"
      ]
    },
    {
      "cell_type": "code",
      "execution_count": null,
      "id": "4bd09513",
      "metadata": {
        "id": "4bd09513"
      },
      "outputs": [],
      "source": [
        "def backward(self, X, y):\n",
        "\n",
        "    ### Number of rows/records/training examples\n",
        "    m = X.shape[0]\n",
        "\n",
        "    ### Gradients of the loss w.r.t. weights and biases of the <OUTPUT LAYER>\n",
        "    delta3 = self.probs - y.reshape(-1, 1) # 'y' is the actual output and self.probs is the predicted output from the forward passs\n",
        "    dW2 = np.dot(self.a1.T, delta3) #Gradient of the loss w.r.t. weights of the output laer (dW2)\n",
        "    db2 = np.sum(delta3, axis = 0, keepdims=True) #gradient of the loss w.r.t. bias of the output layer (db2)\n",
        "\n",
        "    ### Gradients of the loss w.r.t. weights and biases of the <HIDDEN LAYER>\n",
        "    delta2 = np.dot(delta3, self.W2.T)*self.a1*(1-self.a1) #computes the error at the hidden layer\n",
        "    dW1 = np.dot(X.T, delta2) #gradient of the loss wrt weights of the hidden layer\n",
        "    db1 = np.sum(delta2, axis=0, keepdims=True) #gradient of the loss wrt bias of the hidden layer\n",
        "\n",
        "    ### Update the weights and biases\n",
        "    self.W1 -= self.learning_rate*dW1\n",
        "#   self.W1 = self.W1 -  self.learning_rate*dW1\n",
        "    self.b1 -= self.learning_rate*db1\n",
        "    self.W2 -= self.learning_rate*dW2\n",
        "    self.b2 -= self.learning_rate*db2\n",
        ""
      ]
    },
    {
      "cell_type": "markdown",
      "id": "d3dc8e34",
      "metadata": {
        "id": "d3dc8e34"
      },
      "source": [
        "`-=`: subtract and assign\n",
        "\n",
        "`delta3` is the gradient of the losses wrt to the output layer"
      ]
    },
    {
      "cell_type": "markdown",
      "id": "b770af4c",
      "metadata": {
        "id": "b770af4c"
      },
      "source": [
        "![image.png](attachment:image.png)"
      ]
    },
    {
      "cell_type": "markdown",
      "id": "6a7125a9",
      "metadata": {
        "id": "6a7125a9"
      },
      "source": [
        "![image.png](attachment:image.png)"
      ]
    },
    {
      "cell_type": "markdown",
      "id": "3c4c8014",
      "metadata": {
        "id": "3c4c8014"
      },
      "source": [
        "##### `keepdims = True` --> Parameter to maintain the dimensionality of the result, ensuring that the dimensions of the output match the original array in terms of the shape"
      ]
    },
    {
      "cell_type": "markdown",
      "id": "4cc71fa6",
      "metadata": {
        "id": "4cc71fa6"
      },
      "source": [
        "### Training"
      ]
    },
    {
      "cell_type": "markdown",
      "id": "88efa9fb",
      "metadata": {
        "id": "88efa9fb"
      },
      "source": [
        "- `training method` trains the neural network over `self.epochs` epochs\n",
        "    - Performs forward propagation to compute predictions\n",
        "    - Computes multi-class loss function\n",
        "    - Backpropagates gradients and updates weights/biases\n",
        "    - Prints training progress every 100 epochs"
      ]
    },
    {
      "cell_type": "code",
      "execution_count": null,
      "id": "d33c9bea",
      "metadata": {
        "id": "d33c9bea",
        "outputId": "fb68873d-c5ab-4d1b-f75e-13865d528112"
      },
      "outputs": [
        {
          "data": {
            "text/plain": [
              "0      0\n",
              "1      0\n",
              "2      0\n",
              "3      0\n",
              "4      0\n",
              "      ..\n",
              "145    2\n",
              "146    2\n",
              "147    2\n",
              "148    2\n",
              "149    2\n",
              "Name: species, Length: 150, dtype: int32"
            ]
          },
          "execution_count": 38,
          "metadata": {},
          "output_type": "execute_result"
        }
      ],
      "source": []
    },
    {
      "cell_type": "code",
      "execution_count": null,
      "id": "78ccc3d0",
      "metadata": {
        "id": "78ccc3d0"
      },
      "outputs": [],
      "source": [
        "def train(self, X, y):\n",
        "    for epoch in range(self.epochs):\n",
        "        ### Forward pass\n",
        "        probs = self.forward(X) # computes the predictions using forward pass\n",
        "\n",
        "        # Compute the categorical cross-entropy loss\n",
        "        loss = self.compute_loss(y, probs)\n",
        "        accuracy = self.compute_accuracy(y,probs)\n",
        "        self.loss_history.append(loss)\n",
        "        self.accuracy_history.append(accuracy)\n",
        "\n",
        "\n",
        "        ### Backward pass (Backpropagation)\n",
        "        self.backward(X,y)\n",
        "\n",
        "        ### Print the progress every 10 epochs\n",
        "        if epoch % 10 == 0:\n",
        "            print(f'Epoch {epoch}, Loss: {loss:.4f}, Accuracy:{accuracy:.4f}')\n",
        "\n",
        "\n",
        "### Testing the MLP NN\n",
        "\n",
        "def test(self, X_test, y_test):\n",
        "\n",
        "    probs = self.forward(X_test)\n",
        "    loss = self.compute_loss(y_test, probs)\n",
        "    accuracy = self.compute_accuracy(y_test,probs)\n",
        "    print(f'Test Loss: {loss:.4f}, Test Accuracy:{accuracy:.4f}')\n",
        "    return loss, accuracy"
      ]
    },
    {
      "cell_type": "markdown",
      "id": "0b01790f",
      "metadata": {
        "id": "0b01790f"
      },
      "source": [
        "# LOAD THE DATASET for TESTING"
      ]
    },
    {
      "cell_type": "code",
      "execution_count": null,
      "id": "6828eee2",
      "metadata": {
        "id": "6828eee2"
      },
      "outputs": [],
      "source": [
        "iris = load_iris()\n",
        "\n",
        "### convert it into Pandas DataFrame\n",
        "df = pd.DataFrame(data=iris.data, columns = iris.feature_names)"
      ]
    },
    {
      "cell_type": "code",
      "execution_count": null,
      "id": "b14b8bec",
      "metadata": {
        "scrolled": true,
        "id": "b14b8bec",
        "outputId": "bdf45aa1-d44c-426d-afe8-dce7165f1a20"
      },
      "outputs": [
        {
          "data": {
            "text/html": [
              "<div>\n",
              "<style scoped>\n",
              "    .dataframe tbody tr th:only-of-type {\n",
              "        vertical-align: middle;\n",
              "    }\n",
              "\n",
              "    .dataframe tbody tr th {\n",
              "        vertical-align: top;\n",
              "    }\n",
              "\n",
              "    .dataframe thead th {\n",
              "        text-align: right;\n",
              "    }\n",
              "</style>\n",
              "<table border=\"1\" class=\"dataframe\">\n",
              "  <thead>\n",
              "    <tr style=\"text-align: right;\">\n",
              "      <th></th>\n",
              "      <th>sepal length (cm)</th>\n",
              "      <th>sepal width (cm)</th>\n",
              "      <th>petal length (cm)</th>\n",
              "      <th>petal width (cm)</th>\n",
              "    </tr>\n",
              "  </thead>\n",
              "  <tbody>\n",
              "    <tr>\n",
              "      <th>0</th>\n",
              "      <td>5.1</td>\n",
              "      <td>3.5</td>\n",
              "      <td>1.4</td>\n",
              "      <td>0.2</td>\n",
              "    </tr>\n",
              "    <tr>\n",
              "      <th>1</th>\n",
              "      <td>4.9</td>\n",
              "      <td>3.0</td>\n",
              "      <td>1.4</td>\n",
              "      <td>0.2</td>\n",
              "    </tr>\n",
              "    <tr>\n",
              "      <th>2</th>\n",
              "      <td>4.7</td>\n",
              "      <td>3.2</td>\n",
              "      <td>1.3</td>\n",
              "      <td>0.2</td>\n",
              "    </tr>\n",
              "    <tr>\n",
              "      <th>3</th>\n",
              "      <td>4.6</td>\n",
              "      <td>3.1</td>\n",
              "      <td>1.5</td>\n",
              "      <td>0.2</td>\n",
              "    </tr>\n",
              "    <tr>\n",
              "      <th>4</th>\n",
              "      <td>5.0</td>\n",
              "      <td>3.6</td>\n",
              "      <td>1.4</td>\n",
              "      <td>0.2</td>\n",
              "    </tr>\n",
              "    <tr>\n",
              "      <th>...</th>\n",
              "      <td>...</td>\n",
              "      <td>...</td>\n",
              "      <td>...</td>\n",
              "      <td>...</td>\n",
              "    </tr>\n",
              "    <tr>\n",
              "      <th>145</th>\n",
              "      <td>6.7</td>\n",
              "      <td>3.0</td>\n",
              "      <td>5.2</td>\n",
              "      <td>2.3</td>\n",
              "    </tr>\n",
              "    <tr>\n",
              "      <th>146</th>\n",
              "      <td>6.3</td>\n",
              "      <td>2.5</td>\n",
              "      <td>5.0</td>\n",
              "      <td>1.9</td>\n",
              "    </tr>\n",
              "    <tr>\n",
              "      <th>147</th>\n",
              "      <td>6.5</td>\n",
              "      <td>3.0</td>\n",
              "      <td>5.2</td>\n",
              "      <td>2.0</td>\n",
              "    </tr>\n",
              "    <tr>\n",
              "      <th>148</th>\n",
              "      <td>6.2</td>\n",
              "      <td>3.4</td>\n",
              "      <td>5.4</td>\n",
              "      <td>2.3</td>\n",
              "    </tr>\n",
              "    <tr>\n",
              "      <th>149</th>\n",
              "      <td>5.9</td>\n",
              "      <td>3.0</td>\n",
              "      <td>5.1</td>\n",
              "      <td>1.8</td>\n",
              "    </tr>\n",
              "  </tbody>\n",
              "</table>\n",
              "<p>150 rows × 4 columns</p>\n",
              "</div>"
            ],
            "text/plain": [
              "     sepal length (cm)  sepal width (cm)  petal length (cm)  petal width (cm)\n",
              "0                  5.1               3.5                1.4               0.2\n",
              "1                  4.9               3.0                1.4               0.2\n",
              "2                  4.7               3.2                1.3               0.2\n",
              "3                  4.6               3.1                1.5               0.2\n",
              "4                  5.0               3.6                1.4               0.2\n",
              "..                 ...               ...                ...               ...\n",
              "145                6.7               3.0                5.2               2.3\n",
              "146                6.3               2.5                5.0               1.9\n",
              "147                6.5               3.0                5.2               2.0\n",
              "148                6.2               3.4                5.4               2.3\n",
              "149                5.9               3.0                5.1               1.8\n",
              "\n",
              "[150 rows x 4 columns]"
            ]
          },
          "execution_count": 42,
          "metadata": {},
          "output_type": "execute_result"
        }
      ],
      "source": [
        "df"
      ]
    },
    {
      "cell_type": "markdown",
      "id": "392ee420",
      "metadata": {
        "id": "392ee420"
      },
      "source": [
        "### Add the target column (Species) to the DataFrame"
      ]
    },
    {
      "cell_type": "code",
      "execution_count": null,
      "id": "5d2325db",
      "metadata": {
        "id": "5d2325db"
      },
      "outputs": [],
      "source": [
        "df['species'] = iris.target"
      ]
    },
    {
      "cell_type": "code",
      "execution_count": null,
      "id": "fc739e0c",
      "metadata": {
        "scrolled": true,
        "id": "fc739e0c",
        "outputId": "d038203b-934a-4c4f-e028-26beae186f1c"
      },
      "outputs": [
        {
          "data": {
            "text/html": [
              "<div>\n",
              "<style scoped>\n",
              "    .dataframe tbody tr th:only-of-type {\n",
              "        vertical-align: middle;\n",
              "    }\n",
              "\n",
              "    .dataframe tbody tr th {\n",
              "        vertical-align: top;\n",
              "    }\n",
              "\n",
              "    .dataframe thead th {\n",
              "        text-align: right;\n",
              "    }\n",
              "</style>\n",
              "<table border=\"1\" class=\"dataframe\">\n",
              "  <thead>\n",
              "    <tr style=\"text-align: right;\">\n",
              "      <th></th>\n",
              "      <th>sepal length (cm)</th>\n",
              "      <th>sepal width (cm)</th>\n",
              "      <th>petal length (cm)</th>\n",
              "      <th>petal width (cm)</th>\n",
              "      <th>species</th>\n",
              "    </tr>\n",
              "  </thead>\n",
              "  <tbody>\n",
              "    <tr>\n",
              "      <th>147</th>\n",
              "      <td>6.5</td>\n",
              "      <td>3.0</td>\n",
              "      <td>5.2</td>\n",
              "      <td>2.0</td>\n",
              "      <td>2</td>\n",
              "    </tr>\n",
              "    <tr>\n",
              "      <th>81</th>\n",
              "      <td>5.5</td>\n",
              "      <td>2.4</td>\n",
              "      <td>3.7</td>\n",
              "      <td>1.0</td>\n",
              "      <td>1</td>\n",
              "    </tr>\n",
              "  </tbody>\n",
              "</table>\n",
              "</div>"
            ],
            "text/plain": [
              "     sepal length (cm)  sepal width (cm)  petal length (cm)  petal width (cm)  \\\n",
              "147                6.5               3.0                5.2               2.0   \n",
              "81                 5.5               2.4                3.7               1.0   \n",
              "\n",
              "     species  \n",
              "147        2  \n",
              "81         1  "
            ]
          },
          "execution_count": 44,
          "metadata": {},
          "output_type": "execute_result"
        }
      ],
      "source": [
        "df.sample(2)"
      ]
    },
    {
      "cell_type": "code",
      "execution_count": null,
      "id": "e9cfd8c8",
      "metadata": {
        "id": "e9cfd8c8",
        "outputId": "6678f550-b620-4f77-b8a7-48d36d600734"
      },
      "outputs": [
        {
          "data": {
            "text/html": [
              "<div>\n",
              "<style scoped>\n",
              "    .dataframe tbody tr th:only-of-type {\n",
              "        vertical-align: middle;\n",
              "    }\n",
              "\n",
              "    .dataframe tbody tr th {\n",
              "        vertical-align: top;\n",
              "    }\n",
              "\n",
              "    .dataframe thead th {\n",
              "        text-align: right;\n",
              "    }\n",
              "</style>\n",
              "<table border=\"1\" class=\"dataframe\">\n",
              "  <thead>\n",
              "    <tr style=\"text-align: right;\">\n",
              "      <th></th>\n",
              "      <th>sepal length (cm)</th>\n",
              "      <th>sepal width (cm)</th>\n",
              "      <th>petal length (cm)</th>\n",
              "      <th>petal width (cm)</th>\n",
              "      <th>species</th>\n",
              "    </tr>\n",
              "  </thead>\n",
              "  <tbody>\n",
              "    <tr>\n",
              "      <th>0</th>\n",
              "      <td>5.1</td>\n",
              "      <td>3.5</td>\n",
              "      <td>1.4</td>\n",
              "      <td>0.2</td>\n",
              "      <td>0</td>\n",
              "    </tr>\n",
              "    <tr>\n",
              "      <th>1</th>\n",
              "      <td>4.9</td>\n",
              "      <td>3.0</td>\n",
              "      <td>1.4</td>\n",
              "      <td>0.2</td>\n",
              "      <td>0</td>\n",
              "    </tr>\n",
              "  </tbody>\n",
              "</table>\n",
              "</div>"
            ],
            "text/plain": [
              "   sepal length (cm)  sepal width (cm)  petal length (cm)  petal width (cm)  \\\n",
              "0                5.1               3.5                1.4               0.2   \n",
              "1                4.9               3.0                1.4               0.2   \n",
              "\n",
              "   species  \n",
              "0        0  \n",
              "1        0  "
            ]
          },
          "execution_count": 45,
          "metadata": {},
          "output_type": "execute_result"
        }
      ],
      "source": [
        "df.head(2)"
      ]
    },
    {
      "cell_type": "markdown",
      "id": "8669fa20",
      "metadata": {
        "id": "8669fa20"
      },
      "source": [
        "### Let us create `X` and `y`"
      ]
    },
    {
      "cell_type": "code",
      "execution_count": null,
      "id": "9e4f0b42",
      "metadata": {
        "id": "9e4f0b42"
      },
      "outputs": [],
      "source": [
        "X = df.drop(columns=['species']) #features or input variables"
      ]
    },
    {
      "cell_type": "code",
      "execution_count": null,
      "id": "5fb4b503",
      "metadata": {
        "id": "5fb4b503"
      },
      "outputs": [],
      "source": [
        "y = df['species'] #target (species)"
      ]
    },
    {
      "cell_type": "code",
      "execution_count": null,
      "id": "3f80fe0a",
      "metadata": {
        "id": "3f80fe0a",
        "outputId": "339d97d1-e927-4ba2-8aaf-f6cf1871a4d3"
      },
      "outputs": [
        {
          "data": {
            "text/html": [
              "<div>\n",
              "<style scoped>\n",
              "    .dataframe tbody tr th:only-of-type {\n",
              "        vertical-align: middle;\n",
              "    }\n",
              "\n",
              "    .dataframe tbody tr th {\n",
              "        vertical-align: top;\n",
              "    }\n",
              "\n",
              "    .dataframe thead th {\n",
              "        text-align: right;\n",
              "    }\n",
              "</style>\n",
              "<table border=\"1\" class=\"dataframe\">\n",
              "  <thead>\n",
              "    <tr style=\"text-align: right;\">\n",
              "      <th></th>\n",
              "      <th>sepal length (cm)</th>\n",
              "      <th>sepal width (cm)</th>\n",
              "      <th>petal length (cm)</th>\n",
              "      <th>petal width (cm)</th>\n",
              "    </tr>\n",
              "  </thead>\n",
              "  <tbody>\n",
              "    <tr>\n",
              "      <th>0</th>\n",
              "      <td>5.1</td>\n",
              "      <td>3.5</td>\n",
              "      <td>1.4</td>\n",
              "      <td>0.2</td>\n",
              "    </tr>\n",
              "    <tr>\n",
              "      <th>1</th>\n",
              "      <td>4.9</td>\n",
              "      <td>3.0</td>\n",
              "      <td>1.4</td>\n",
              "      <td>0.2</td>\n",
              "    </tr>\n",
              "  </tbody>\n",
              "</table>\n",
              "</div>"
            ],
            "text/plain": [
              "   sepal length (cm)  sepal width (cm)  petal length (cm)  petal width (cm)\n",
              "0                5.1               3.5                1.4               0.2\n",
              "1                4.9               3.0                1.4               0.2"
            ]
          },
          "execution_count": 48,
          "metadata": {},
          "output_type": "execute_result"
        }
      ],
      "source": [
        "X.head(2) #input/features"
      ]
    },
    {
      "cell_type": "code",
      "execution_count": null,
      "id": "8cb72488",
      "metadata": {
        "id": "8cb72488",
        "outputId": "3f894b09-69dd-4923-f9a4-7c991131e7a7"
      },
      "outputs": [
        {
          "data": {
            "text/plain": [
              "0    0\n",
              "1    0\n",
              "Name: species, dtype: int32"
            ]
          },
          "execution_count": 49,
          "metadata": {},
          "output_type": "execute_result"
        }
      ],
      "source": [
        "y.head(2) #target/output"
      ]
    },
    {
      "cell_type": "code",
      "execution_count": null,
      "id": "d970b7b4",
      "metadata": {
        "id": "d970b7b4",
        "outputId": "faf350e7-c1fc-4747-b167-9a7fac8721c5"
      },
      "outputs": [
        {
          "data": {
            "text/plain": [
              "0      0\n",
              "1      0\n",
              "2      0\n",
              "3      0\n",
              "4      0\n",
              "      ..\n",
              "145    2\n",
              "146    2\n",
              "147    2\n",
              "148    2\n",
              "149    2\n",
              "Name: species, Length: 150, dtype: int32"
            ]
          },
          "execution_count": 50,
          "metadata": {},
          "output_type": "execute_result"
        }
      ],
      "source": [
        "y"
      ]
    },
    {
      "cell_type": "markdown",
      "id": "24f31d7f",
      "metadata": {
        "id": "24f31d7f"
      },
      "source": [
        "### USe this instead"
      ]
    },
    {
      "cell_type": "code",
      "execution_count": null,
      "id": "f473327c",
      "metadata": {
        "id": "f473327c"
      },
      "outputs": [],
      "source": [
        "# Load the Iris dataset\n",
        "iris = load_iris()\n",
        "X = iris.data  # Input features (4 features for each example)\n",
        "y = iris.target  # Target labels (0, 1, 2)"
      ]
    },
    {
      "cell_type": "code",
      "execution_count": null,
      "id": "411091c8",
      "metadata": {
        "id": "411091c8",
        "outputId": "5b02fee8-c3ca-4d1a-ad19-0b4091296042"
      },
      "outputs": [
        {
          "name": "stderr",
          "output_type": "stream",
          "text": [
            "C:\\Users\\think\\anaconda3\\lib\\site-packages\\sklearn\\preprocessing\\_encoders.py:975: FutureWarning: `sparse` was renamed to `sparse_output` in version 1.2 and will be removed in 1.4. `sparse_output` is ignored unless you leave `sparse` to its default value.\n",
            "  warnings.warn(\n"
          ]
        }
      ],
      "source": [
        "### One hot encoding the lables for multi-class classification\n",
        "\n",
        "encoder = OneHotEncoder(sparse = False)\n",
        "y = encoder.fit_transform(y.reshape(-1,1))"
      ]
    },
    {
      "cell_type": "code",
      "execution_count": null,
      "id": "67ad9bb2",
      "metadata": {
        "id": "67ad9bb2",
        "outputId": "9eccea8b-e840-44f5-a9be-4b94f7f8db35"
      },
      "outputs": [
        {
          "data": {
            "text/plain": [
              "array([[1., 0., 0.],\n",
              "       [1., 0., 0.],\n",
              "       [1., 0., 0.],\n",
              "       [1., 0., 0.],\n",
              "       [1., 0., 0.],\n",
              "       [1., 0., 0.],\n",
              "       [1., 0., 0.],\n",
              "       [1., 0., 0.],\n",
              "       [1., 0., 0.],\n",
              "       [1., 0., 0.],\n",
              "       [1., 0., 0.],\n",
              "       [1., 0., 0.],\n",
              "       [1., 0., 0.],\n",
              "       [1., 0., 0.],\n",
              "       [1., 0., 0.],\n",
              "       [1., 0., 0.],\n",
              "       [1., 0., 0.],\n",
              "       [1., 0., 0.],\n",
              "       [1., 0., 0.],\n",
              "       [1., 0., 0.],\n",
              "       [1., 0., 0.],\n",
              "       [1., 0., 0.],\n",
              "       [1., 0., 0.],\n",
              "       [1., 0., 0.],\n",
              "       [1., 0., 0.],\n",
              "       [1., 0., 0.],\n",
              "       [1., 0., 0.],\n",
              "       [1., 0., 0.],\n",
              "       [1., 0., 0.],\n",
              "       [1., 0., 0.],\n",
              "       [1., 0., 0.],\n",
              "       [1., 0., 0.],\n",
              "       [1., 0., 0.],\n",
              "       [1., 0., 0.],\n",
              "       [1., 0., 0.],\n",
              "       [1., 0., 0.],\n",
              "       [1., 0., 0.],\n",
              "       [1., 0., 0.],\n",
              "       [1., 0., 0.],\n",
              "       [1., 0., 0.],\n",
              "       [1., 0., 0.],\n",
              "       [1., 0., 0.],\n",
              "       [1., 0., 0.],\n",
              "       [1., 0., 0.],\n",
              "       [1., 0., 0.],\n",
              "       [1., 0., 0.],\n",
              "       [1., 0., 0.],\n",
              "       [1., 0., 0.],\n",
              "       [1., 0., 0.],\n",
              "       [1., 0., 0.],\n",
              "       [0., 1., 0.],\n",
              "       [0., 1., 0.],\n",
              "       [0., 1., 0.],\n",
              "       [0., 1., 0.],\n",
              "       [0., 1., 0.],\n",
              "       [0., 1., 0.],\n",
              "       [0., 1., 0.],\n",
              "       [0., 1., 0.],\n",
              "       [0., 1., 0.],\n",
              "       [0., 1., 0.],\n",
              "       [0., 1., 0.],\n",
              "       [0., 1., 0.],\n",
              "       [0., 1., 0.],\n",
              "       [0., 1., 0.],\n",
              "       [0., 1., 0.],\n",
              "       [0., 1., 0.],\n",
              "       [0., 1., 0.],\n",
              "       [0., 1., 0.],\n",
              "       [0., 1., 0.],\n",
              "       [0., 1., 0.],\n",
              "       [0., 1., 0.],\n",
              "       [0., 1., 0.],\n",
              "       [0., 1., 0.],\n",
              "       [0., 1., 0.],\n",
              "       [0., 1., 0.],\n",
              "       [0., 1., 0.],\n",
              "       [0., 1., 0.],\n",
              "       [0., 1., 0.],\n",
              "       [0., 1., 0.],\n",
              "       [0., 1., 0.],\n",
              "       [0., 1., 0.],\n",
              "       [0., 1., 0.],\n",
              "       [0., 1., 0.],\n",
              "       [0., 1., 0.],\n",
              "       [0., 1., 0.],\n",
              "       [0., 1., 0.],\n",
              "       [0., 1., 0.],\n",
              "       [0., 1., 0.],\n",
              "       [0., 1., 0.],\n",
              "       [0., 1., 0.],\n",
              "       [0., 1., 0.],\n",
              "       [0., 1., 0.],\n",
              "       [0., 1., 0.],\n",
              "       [0., 1., 0.],\n",
              "       [0., 1., 0.],\n",
              "       [0., 1., 0.],\n",
              "       [0., 1., 0.],\n",
              "       [0., 1., 0.],\n",
              "       [0., 1., 0.],\n",
              "       [0., 1., 0.],\n",
              "       [0., 0., 1.],\n",
              "       [0., 0., 1.],\n",
              "       [0., 0., 1.],\n",
              "       [0., 0., 1.],\n",
              "       [0., 0., 1.],\n",
              "       [0., 0., 1.],\n",
              "       [0., 0., 1.],\n",
              "       [0., 0., 1.],\n",
              "       [0., 0., 1.],\n",
              "       [0., 0., 1.],\n",
              "       [0., 0., 1.],\n",
              "       [0., 0., 1.],\n",
              "       [0., 0., 1.],\n",
              "       [0., 0., 1.],\n",
              "       [0., 0., 1.],\n",
              "       [0., 0., 1.],\n",
              "       [0., 0., 1.],\n",
              "       [0., 0., 1.],\n",
              "       [0., 0., 1.],\n",
              "       [0., 0., 1.],\n",
              "       [0., 0., 1.],\n",
              "       [0., 0., 1.],\n",
              "       [0., 0., 1.],\n",
              "       [0., 0., 1.],\n",
              "       [0., 0., 1.],\n",
              "       [0., 0., 1.],\n",
              "       [0., 0., 1.],\n",
              "       [0., 0., 1.],\n",
              "       [0., 0., 1.],\n",
              "       [0., 0., 1.],\n",
              "       [0., 0., 1.],\n",
              "       [0., 0., 1.],\n",
              "       [0., 0., 1.],\n",
              "       [0., 0., 1.],\n",
              "       [0., 0., 1.],\n",
              "       [0., 0., 1.],\n",
              "       [0., 0., 1.],\n",
              "       [0., 0., 1.],\n",
              "       [0., 0., 1.],\n",
              "       [0., 0., 1.],\n",
              "       [0., 0., 1.],\n",
              "       [0., 0., 1.],\n",
              "       [0., 0., 1.],\n",
              "       [0., 0., 1.],\n",
              "       [0., 0., 1.],\n",
              "       [0., 0., 1.],\n",
              "       [0., 0., 1.],\n",
              "       [0., 0., 1.],\n",
              "       [0., 0., 1.],\n",
              "       [0., 0., 1.]])"
            ]
          },
          "execution_count": 57,
          "metadata": {},
          "output_type": "execute_result"
        }
      ],
      "source": [
        "y"
      ]
    },
    {
      "cell_type": "code",
      "execution_count": null,
      "id": "26295ae5",
      "metadata": {
        "id": "26295ae5"
      },
      "outputs": [],
      "source": [
        "### Split the IRIS dataset into training and testing sets\n",
        "X_train, X_test, y_train, y_test = train_test_split(X, y, test_size=0.2, random_state=42)"
      ]
    },
    {
      "cell_type": "code",
      "execution_count": null,
      "id": "2a834eb9",
      "metadata": {
        "id": "2a834eb9",
        "outputId": "e0aaf174-d2b2-42b4-e8e9-a03e50dc80df"
      },
      "outputs": [
        {
          "data": {
            "text/plain": [
              "(120, 4)"
            ]
          },
          "execution_count": 59,
          "metadata": {},
          "output_type": "execute_result"
        }
      ],
      "source": [
        "X_train.shape"
      ]
    },
    {
      "cell_type": "code",
      "execution_count": null,
      "id": "72f19956",
      "metadata": {
        "id": "72f19956",
        "outputId": "2475fbbf-afc4-4a41-e8d6-26a322ace76c"
      },
      "outputs": [
        {
          "data": {
            "text/plain": [
              "(150, 4)"
            ]
          },
          "execution_count": 60,
          "metadata": {},
          "output_type": "execute_result"
        }
      ],
      "source": [
        "X.shape"
      ]
    },
    {
      "cell_type": "code",
      "execution_count": null,
      "id": "fe5c3da6",
      "metadata": {
        "id": "fe5c3da6",
        "outputId": "479cb2fd-07bd-4179-c51b-cc0cac2fafcf"
      },
      "outputs": [
        {
          "data": {
            "text/plain": [
              "80.0"
            ]
          },
          "execution_count": 61,
          "metadata": {},
          "output_type": "execute_result"
        }
      ],
      "source": [
        "120/150*100 #80% for training"
      ]
    },
    {
      "cell_type": "markdown",
      "id": "30393381",
      "metadata": {
        "id": "30393381"
      },
      "source": [
        "### CONSOLIDATE THE CODE BLOCKS\n",
        "\n",
        "`FINAL BLOCK WITH ALL THE CHANGES AS REQUIRED`"
      ]
    },
    {
      "cell_type": "code",
      "execution_count": null,
      "id": "5f7bdbcc",
      "metadata": {
        "id": "5f7bdbcc"
      },
      "outputs": [],
      "source": [
        "import numpy as np\n",
        "\n",
        "class NeuralNetwork:\n",
        "    def __init__(self, input_size, hidden_size, output_size, learning_rate=0.01, epochs=100):\n",
        "        self.input_size = input_size  # no. of input features or variables in the input layer\n",
        "        self.hidden_size = hidden_size  # no. of neurons in the hidden layer\n",
        "        self.output_size = output_size  # no. of neurons in the output layer\n",
        "        self.learning_rate = learning_rate  # learning rate for the gradient descent step\n",
        "        self.epochs = epochs  # no. of training_epochs\n",
        "\n",
        "        #############################\n",
        "        # INPUT LAYER to HIDDEN LAYER\n",
        "        #############################\n",
        "\n",
        "        # Initialize weights and biases from input layer to hidden neurons --> INPUT LAYER to HIDDEN LAYER\n",
        "        self.W1 = np.random.randn(self.input_size, self.hidden_size) * 0.01  # random weights from input to hidden neurons\n",
        "        self.b1 = np.zeros((1, self.hidden_size))  # bias for hidden layer\n",
        "\n",
        "        #############################\n",
        "        # HIDDEN LAYER to OUTPUT LAYER\n",
        "        #############################\n",
        "        self.W2 = np.random.randn(self.hidden_size, self.output_size) * 0.01  # hidden neurons to output neurons --> weights\n",
        "        self.b2 = np.zeros((1, self.output_size))  # bias for output layer\n",
        "\n",
        "        # Loss history for plotting\n",
        "        self.loss_history = []  # empty list initialized to store the loss values during training epochs\n",
        "\n",
        "        # Accuracy history for plotting\n",
        "        self.accuracy_history = []  # empty list initialized to store the accuracy values during training epochs\n",
        "\n",
        "    # ReLU activation function\n",
        "    def relu(self, z):\n",
        "        return np.maximum(0, z)\n",
        "\n",
        "    # Derivative of ReLU for backpropagation\n",
        "    def relu_derivative(self, z):\n",
        "        return np.where(z > 0, 1, 0)\n",
        "\n",
        "    # Softmax for multi-class classification\n",
        "    def softmax(self, z):\n",
        "        exp_values = np.exp(z - np.max(z, axis=1, keepdims=True))  # subtract max for numerical stability\n",
        "        return exp_values / np.sum(exp_values, axis=1, keepdims=True)\n",
        "\n",
        "    def forward(self, X):\n",
        "        # Forward propagation through the neural network\n",
        "\n",
        "        #############################\n",
        "        # INPUT LAYER to HIDDEN LAYER\n",
        "        #############################\n",
        "        self.z1 = np.dot(X, self.W1) + self.b1\n",
        "        self.a1 = self.relu(self.z1)  # computes the activation function in the hidden layer using ReLU (Rectified Linear Unit)\n",
        "\n",
        "        #############################\n",
        "        # HIDDEN LAYER to OUTPUT LAYER\n",
        "        #############################\n",
        "        self.z2 = np.dot(self.a1, self.W2) + self.b2\n",
        "        self.probs = self.softmax(self.z2)  # computes the probabilities using Softmax for multi-class classification\n",
        "\n",
        "        return self.probs\n",
        "\n",
        "    # Cross-entropy loss for multi-class classification\n",
        "    def compute_loss(self, y_true, probs):\n",
        "        # y_true is one-hot encoded\n",
        "        loss = -np.mean(np.sum(y_true * np.log(probs), axis=1))\n",
        "        return loss\n",
        "\n",
        "    # Compute accuracy\n",
        "    def compute_accuracy(self, y_true, probs):\n",
        "        predictions = np.argmax(probs, axis=1)\n",
        "        true_labels = np.argmax(y_true, axis=1)\n",
        "        return np.mean(predictions == true_labels)\n",
        "\n",
        "    def backward(self, X, y):\n",
        "        # Number of rows/records/training examples\n",
        "        m = X.shape[0]\n",
        "\n",
        "        # Gradients of the loss w.r.t. weights and biases of the OUTPUT LAYER\n",
        "        delta3 = self.probs - y  # No reshape needed for multi-class classification\n",
        "        dW2 = np.dot(self.a1.T, delta3) / m  # Gradient of the loss w.r.t. weights of the output layer (dW2)\n",
        "        db2 = np.sum(delta3, axis=0, keepdims=True) / m  # Gradient of the loss w.r.t. bias of the output layer (db2)\n",
        "\n",
        "        # Gradients of the loss w.r.t. weights and biases of the HIDDEN LAYER\n",
        "        delta2 = np.dot(delta3, self.W2.T) * self.relu_derivative(self.z1)  # Use derivative of ReLU\n",
        "        dW1 = np.dot(X.T, delta2) / m  # Gradient of the loss w.r.t. weights of the hidden layer\n",
        "        db1 = np.sum(delta2, axis=0, keepdims=True) / m  # Gradient of the loss w.r.t. bias of the hidden layer\n",
        "\n",
        "        # Update the weights and biases\n",
        "        self.W1 -= self.learning_rate * dW1\n",
        "        self.b1 -= self.learning_rate * db1\n",
        "        self.W2 -= self.learning_rate * dW2\n",
        "        self.b2 -= self.learning_rate * db2\n",
        "\n",
        "    def train(self, X, y):\n",
        "        for epoch in range(self.epochs):\n",
        "            ### Forward pass\n",
        "            probs = self.forward(X) # computes the predictions using forward pass\n",
        "\n",
        "            # Compute the categorical cross-entropy loss\n",
        "            loss = self.compute_loss(y, probs)\n",
        "            accuracy = self.compute_accuracy(y,probs)\n",
        "            self.loss_history.append(loss)\n",
        "            self.accuracy_history.append(accuracy)\n",
        "\n",
        "\n",
        "            ### Backward pass (Backpropagation)\n",
        "            self.backward(X,y)\n",
        "\n",
        "            ### Print the progress every 10 epochs\n",
        "            if epoch % 10 == 0:\n",
        "                print(f'Epoch {epoch}, Loss: {loss:.4f}, Accuracy:{accuracy:.4f}')\n",
        "\n",
        "\n",
        "    ### Testing the MLP NN\n",
        "\n",
        "    def test(self, X_test, y_test):\n",
        "\n",
        "        probs = self.forward(X_test)\n",
        "        loss = self.compute_loss(y_test, probs)\n",
        "        accuracy = self.compute_accuracy(y_test,probs)\n",
        "\n",
        "        print(f'Test Loss: {loss:.4f}, Test Accuracy:{accuracy:.4f}')\n",
        "        return loss, accuracy\n"
      ]
    },
    {
      "cell_type": "markdown",
      "id": "151d261a",
      "metadata": {
        "id": "151d261a"
      },
      "source": [
        "### Initialize the network for `IRIS` dataset"
      ]
    },
    {
      "cell_type": "code",
      "execution_count": null,
      "id": "d2cfc357",
      "metadata": {
        "id": "d2cfc357"
      },
      "outputs": [],
      "source": [
        "input_size = 4 # number of input features (from IRIS dataset)\n",
        "hidden_size = 8 # number of neurons in the hidden layer\n",
        "output_size = 3 # number of classes (setosa, versicolor, virginica)"
      ]
    },
    {
      "cell_type": "code",
      "execution_count": null,
      "id": "4a2b112d",
      "metadata": {
        "id": "4a2b112d"
      },
      "outputs": [],
      "source": [
        "### Fire the very much our own MLP NN\n",
        "nn = NeuralNetwork(input_size, hidden_size, output_size, epochs=1500, learning_rate=0.01) #creating the NN object"
      ]
    },
    {
      "cell_type": "code",
      "execution_count": null,
      "id": "cfb6e435",
      "metadata": {
        "id": "cfb6e435",
        "outputId": "71d3c83e-452f-49ec-b817-6a4081636112"
      },
      "outputs": [
        {
          "data": {
            "text/plain": [
              "<__main__.NeuralNetwork at 0x1a46faf69d0>"
            ]
          },
          "execution_count": 105,
          "metadata": {},
          "output_type": "execute_result"
        }
      ],
      "source": [
        "nn"
      ]
    },
    {
      "cell_type": "markdown",
      "id": "fc788704",
      "metadata": {
        "id": "fc788704"
      },
      "source": [
        "### Training"
      ]
    },
    {
      "cell_type": "code",
      "execution_count": null,
      "id": "c35a7160",
      "metadata": {
        "id": "c35a7160",
        "outputId": "db814fa5-3991-4b76-f40e-d2f19967eaca"
      },
      "outputs": [
        {
          "name": "stdout",
          "output_type": "stream",
          "text": [
            "Epoch 0, Loss: 1.0986, Accuracy:0.3250\n",
            "Epoch 10, Loss: 1.0985, Accuracy:0.3417\n",
            "Epoch 20, Loss: 1.0984, Accuracy:0.3417\n",
            "Epoch 30, Loss: 1.0983, Accuracy:0.3417\n",
            "Epoch 40, Loss: 1.0982, Accuracy:0.3417\n",
            "Epoch 50, Loss: 1.0980, Accuracy:0.3417\n",
            "Epoch 60, Loss: 1.0977, Accuracy:0.3417\n",
            "Epoch 70, Loss: 1.0974, Accuracy:0.3417\n",
            "Epoch 80, Loss: 1.0971, Accuracy:0.3417\n",
            "Epoch 90, Loss: 1.0967, Accuracy:0.3417\n",
            "Epoch 100, Loss: 1.0963, Accuracy:0.3417\n",
            "Epoch 110, Loss: 1.0958, Accuracy:0.3417\n",
            "Epoch 120, Loss: 1.0951, Accuracy:0.3417\n",
            "Epoch 130, Loss: 1.0943, Accuracy:0.3417\n",
            "Epoch 140, Loss: 1.0933, Accuracy:0.3417\n",
            "Epoch 150, Loss: 1.0922, Accuracy:0.3417\n",
            "Epoch 160, Loss: 1.0907, Accuracy:0.3917\n",
            "Epoch 170, Loss: 1.0890, Accuracy:0.5583\n",
            "Epoch 180, Loss: 1.0870, Accuracy:0.5250\n",
            "Epoch 190, Loss: 1.0846, Accuracy:0.3833\n",
            "Epoch 200, Loss: 1.0817, Accuracy:0.3500\n",
            "Epoch 210, Loss: 1.0784, Accuracy:0.3250\n",
            "Epoch 220, Loss: 1.0746, Accuracy:0.3250\n",
            "Epoch 230, Loss: 1.0703, Accuracy:0.3250\n",
            "Epoch 240, Loss: 1.0654, Accuracy:0.3250\n",
            "Epoch 250, Loss: 1.0599, Accuracy:0.3250\n",
            "Epoch 260, Loss: 1.0538, Accuracy:0.3250\n",
            "Epoch 270, Loss: 1.0471, Accuracy:0.3250\n",
            "Epoch 280, Loss: 1.0396, Accuracy:0.3250\n",
            "Epoch 290, Loss: 1.0315, Accuracy:0.3250\n",
            "Epoch 300, Loss: 1.0225, Accuracy:0.3250\n",
            "Epoch 310, Loss: 1.0126, Accuracy:0.3250\n",
            "Epoch 320, Loss: 1.0017, Accuracy:0.3500\n",
            "Epoch 330, Loss: 0.9899, Accuracy:0.4333\n",
            "Epoch 340, Loss: 0.9770, Accuracy:0.5667\n",
            "Epoch 350, Loss: 0.9633, Accuracy:0.6083\n",
            "Epoch 360, Loss: 0.9494, Accuracy:0.6417\n",
            "Epoch 370, Loss: 0.9358, Accuracy:0.6583\n",
            "Epoch 380, Loss: 0.9224, Accuracy:0.6583\n",
            "Epoch 390, Loss: 0.9094, Accuracy:0.6583\n",
            "Epoch 400, Loss: 0.8969, Accuracy:0.6583\n",
            "Epoch 410, Loss: 0.8849, Accuracy:0.6583\n",
            "Epoch 420, Loss: 0.8734, Accuracy:0.6583\n",
            "Epoch 430, Loss: 0.8625, Accuracy:0.6583\n",
            "Epoch 440, Loss: 0.8520, Accuracy:0.6583\n",
            "Epoch 450, Loss: 0.8420, Accuracy:0.6583\n",
            "Epoch 460, Loss: 0.8325, Accuracy:0.6583\n",
            "Epoch 470, Loss: 0.8234, Accuracy:0.6583\n",
            "Epoch 480, Loss: 0.8147, Accuracy:0.6583\n",
            "Epoch 490, Loss: 0.8064, Accuracy:0.6583\n",
            "Epoch 500, Loss: 0.7983, Accuracy:0.6583\n",
            "Epoch 510, Loss: 0.7905, Accuracy:0.6583\n",
            "Epoch 520, Loss: 0.7829, Accuracy:0.6583\n",
            "Epoch 530, Loss: 0.7756, Accuracy:0.6583\n",
            "Epoch 540, Loss: 0.7685, Accuracy:0.6583\n",
            "Epoch 550, Loss: 0.7617, Accuracy:0.6583\n",
            "Epoch 560, Loss: 0.7550, Accuracy:0.6583\n",
            "Epoch 570, Loss: 0.7486, Accuracy:0.6583\n",
            "Epoch 580, Loss: 0.7423, Accuracy:0.6583\n",
            "Epoch 590, Loss: 0.7363, Accuracy:0.6583\n",
            "Epoch 600, Loss: 0.7304, Accuracy:0.6583\n",
            "Epoch 610, Loss: 0.7246, Accuracy:0.6583\n",
            "Epoch 620, Loss: 0.7190, Accuracy:0.6583\n",
            "Epoch 630, Loss: 0.7136, Accuracy:0.6583\n",
            "Epoch 640, Loss: 0.7082, Accuracy:0.6583\n",
            "Epoch 650, Loss: 0.7030, Accuracy:0.6583\n",
            "Epoch 660, Loss: 0.6978, Accuracy:0.6667\n",
            "Epoch 670, Loss: 0.6927, Accuracy:0.6667\n",
            "Epoch 680, Loss: 0.6877, Accuracy:0.6667\n",
            "Epoch 690, Loss: 0.6828, Accuracy:0.6667\n",
            "Epoch 700, Loss: 0.6779, Accuracy:0.6667\n",
            "Epoch 710, Loss: 0.6730, Accuracy:0.6667\n",
            "Epoch 720, Loss: 0.6682, Accuracy:0.6667\n",
            "Epoch 730, Loss: 0.6633, Accuracy:0.6667\n",
            "Epoch 740, Loss: 0.6584, Accuracy:0.6667\n",
            "Epoch 750, Loss: 0.6534, Accuracy:0.6667\n",
            "Epoch 760, Loss: 0.6483, Accuracy:0.6667\n",
            "Epoch 770, Loss: 0.6432, Accuracy:0.6750\n",
            "Epoch 780, Loss: 0.6379, Accuracy:0.6750\n",
            "Epoch 790, Loss: 0.6325, Accuracy:0.6833\n",
            "Epoch 800, Loss: 0.6269, Accuracy:0.6917\n",
            "Epoch 810, Loss: 0.6211, Accuracy:0.6917\n",
            "Epoch 820, Loss: 0.6151, Accuracy:0.6917\n",
            "Epoch 830, Loss: 0.6088, Accuracy:0.6917\n",
            "Epoch 840, Loss: 0.6023, Accuracy:0.6917\n",
            "Epoch 850, Loss: 0.5956, Accuracy:0.6917\n",
            "Epoch 860, Loss: 0.5886, Accuracy:0.6917\n",
            "Epoch 870, Loss: 0.5815, Accuracy:0.6917\n",
            "Epoch 880, Loss: 0.5742, Accuracy:0.6917\n",
            "Epoch 890, Loss: 0.5668, Accuracy:0.7000\n",
            "Epoch 900, Loss: 0.5594, Accuracy:0.7000\n",
            "Epoch 910, Loss: 0.5519, Accuracy:0.7083\n",
            "Epoch 920, Loss: 0.5445, Accuracy:0.7083\n",
            "Epoch 930, Loss: 0.5373, Accuracy:0.7167\n",
            "Epoch 940, Loss: 0.5301, Accuracy:0.7250\n",
            "Epoch 950, Loss: 0.5232, Accuracy:0.7417\n",
            "Epoch 960, Loss: 0.5166, Accuracy:0.7583\n",
            "Epoch 970, Loss: 0.5102, Accuracy:0.7667\n",
            "Epoch 980, Loss: 0.5040, Accuracy:0.8000\n",
            "Epoch 990, Loss: 0.4981, Accuracy:0.8250\n",
            "Epoch 1000, Loss: 0.4924, Accuracy:0.8333\n",
            "Epoch 1010, Loss: 0.4869, Accuracy:0.8417\n",
            "Epoch 1020, Loss: 0.4816, Accuracy:0.8583\n",
            "Epoch 1030, Loss: 0.4764, Accuracy:0.8667\n",
            "Epoch 1040, Loss: 0.4715, Accuracy:0.8750\n",
            "Epoch 1050, Loss: 0.4666, Accuracy:0.8750\n",
            "Epoch 1060, Loss: 0.4620, Accuracy:0.8833\n",
            "Epoch 1070, Loss: 0.4574, Accuracy:0.8833\n",
            "Epoch 1080, Loss: 0.4529, Accuracy:0.9000\n",
            "Epoch 1090, Loss: 0.4485, Accuracy:0.9000\n",
            "Epoch 1100, Loss: 0.4443, Accuracy:0.9000\n",
            "Epoch 1110, Loss: 0.4401, Accuracy:0.9083\n",
            "Epoch 1120, Loss: 0.4359, Accuracy:0.9083\n",
            "Epoch 1130, Loss: 0.4319, Accuracy:0.9167\n",
            "Epoch 1140, Loss: 0.4279, Accuracy:0.9250\n",
            "Epoch 1150, Loss: 0.4239, Accuracy:0.9250\n",
            "Epoch 1160, Loss: 0.4200, Accuracy:0.9250\n",
            "Epoch 1170, Loss: 0.4162, Accuracy:0.9250\n",
            "Epoch 1180, Loss: 0.4124, Accuracy:0.9333\n",
            "Epoch 1190, Loss: 0.4086, Accuracy:0.9417\n",
            "Epoch 1200, Loss: 0.4049, Accuracy:0.9417\n",
            "Epoch 1210, Loss: 0.4012, Accuracy:0.9417\n",
            "Epoch 1220, Loss: 0.3975, Accuracy:0.9583\n",
            "Epoch 1230, Loss: 0.3939, Accuracy:0.9583\n",
            "Epoch 1240, Loss: 0.3903, Accuracy:0.9583\n",
            "Epoch 1250, Loss: 0.3867, Accuracy:0.9583\n",
            "Epoch 1260, Loss: 0.3831, Accuracy:0.9667\n",
            "Epoch 1270, Loss: 0.3796, Accuracy:0.9667\n",
            "Epoch 1280, Loss: 0.3761, Accuracy:0.9667\n",
            "Epoch 1290, Loss: 0.3725, Accuracy:0.9667\n",
            "Epoch 1300, Loss: 0.3691, Accuracy:0.9667\n",
            "Epoch 1310, Loss: 0.3656, Accuracy:0.9667\n",
            "Epoch 1320, Loss: 0.3621, Accuracy:0.9667\n",
            "Epoch 1330, Loss: 0.3587, Accuracy:0.9667\n",
            "Epoch 1340, Loss: 0.3553, Accuracy:0.9667\n",
            "Epoch 1350, Loss: 0.3519, Accuracy:0.9667\n",
            "Epoch 1360, Loss: 0.3485, Accuracy:0.9667\n",
            "Epoch 1370, Loss: 0.3451, Accuracy:0.9667\n",
            "Epoch 1380, Loss: 0.3418, Accuracy:0.9667\n",
            "Epoch 1390, Loss: 0.3384, Accuracy:0.9667\n",
            "Epoch 1400, Loss: 0.3351, Accuracy:0.9750\n",
            "Epoch 1410, Loss: 0.3318, Accuracy:0.9750\n",
            "Epoch 1420, Loss: 0.3286, Accuracy:0.9750\n",
            "Epoch 1430, Loss: 0.3253, Accuracy:0.9750\n",
            "Epoch 1440, Loss: 0.3221, Accuracy:0.9750\n",
            "Epoch 1450, Loss: 0.3188, Accuracy:0.9750\n",
            "Epoch 1460, Loss: 0.3156, Accuracy:0.9750\n",
            "Epoch 1470, Loss: 0.3125, Accuracy:0.9750\n",
            "Epoch 1480, Loss: 0.3093, Accuracy:0.9750\n",
            "Epoch 1490, Loss: 0.3062, Accuracy:0.9750\n"
          ]
        }
      ],
      "source": [
        "### Train the NN on the training set\n",
        "nn.train(X_train, y_train) #make the NN model learn from input and output (supervised learning)"
      ]
    },
    {
      "cell_type": "markdown",
      "id": "c1228711",
      "metadata": {
        "id": "c1228711"
      },
      "source": [
        "### Let us do some plotting\n",
        "\n",
        "`Loss vs Epochs`\n",
        "\n",
        "`Accuracy vs Epochs`"
      ]
    },
    {
      "cell_type": "code",
      "execution_count": null,
      "id": "04eb4a43",
      "metadata": {
        "id": "04eb4a43",
        "outputId": "f58361df-33ae-4f75-e266-cf85e7399d90"
      },
      "outputs": [
        {
          "data": {
            "image/png": "[encoded data removed]",
            "text/plain": [
              "<Figure size 720x720 with 2 Axes>"
            ]
          },
          "metadata": {
            "needs_background": "light"
          },
          "output_type": "display_data"
        }
      ],
      "source": [
        "fig, ax = plt.subplots(2,1, figsize = (10,10))\n",
        "\n",
        "### Plot the loss history\n",
        "ax[0].plot(nn.loss_history, label='Loss', color='darkred', linewidth=2 )\n",
        "ax[0].set_title('Loss vs Epochs')\n",
        "ax[0].set_xlabel('Epochs')\n",
        "ax[0].set_ylabel('Loss')\n",
        "ax[0].legend()\n",
        "\n",
        "### Plot the accuracy history\n",
        "ax[1].plot(nn.accuracy_history, label='Training Accuracy', color='purple', linewidth=2 )\n",
        "ax[1].set_title('Training Accuracy vs Epochs')\n",
        "ax[1].set_xlabel('Epochs')\n",
        "ax[1].set_ylabel('Training Accuracy')\n",
        "ax[1].legend()\n",
        "\n",
        "\n",
        "plt.show()"
      ]
    },
    {
      "cell_type": "markdown",
      "id": "aef0346d",
      "metadata": {
        "id": "aef0346d"
      },
      "source": [
        "### Testing"
      ]
    },
    {
      "cell_type": "code",
      "execution_count": null,
      "id": "5644249d",
      "metadata": {
        "id": "5644249d",
        "outputId": "d16b5780-9ec3-42d5-cf15-13976fe3b2d3"
      },
      "outputs": [
        {
          "name": "stdout",
          "output_type": "stream",
          "text": [
            "Test Loss: 0.3056, Test Accuracy:0.9667\n"
          ]
        }
      ],
      "source": [
        "test_loss, test_accuracy = nn.test(X_test, y_test)"
      ]
    },
    {
      "cell_type": "markdown",
      "id": "f145bb36",
      "metadata": {
        "id": "f145bb36"
      },
      "source": [
        "### CODE EXPLANATION"
      ]
    },
    {
      "cell_type": "markdown",
      "id": "2de04932",
      "metadata": {
        "id": "2de04932"
      },
      "source": [
        "![image.png](attachment:image.png)"
      ]
    },
    {
      "cell_type": "markdown",
      "id": "8fab13ec",
      "metadata": {
        "id": "8fab13ec"
      },
      "source": [
        "![image.png](attachment:image.png)"
      ]
    },
    {
      "cell_type": "markdown",
      "id": "7526cfbe",
      "metadata": {
        "id": "7526cfbe"
      },
      "source": [
        "![image.png](attachment:image.png)"
      ]
    },
    {
      "cell_type": "markdown",
      "id": "983b7efa",
      "metadata": {
        "id": "983b7efa"
      },
      "source": [
        "![image.png](attachment:image.png)"
      ]
    },
    {
      "cell_type": "code",
      "execution_count": null,
      "id": "c2a36bea",
      "metadata": {
        "id": "c2a36bea"
      },
      "outputs": [],
      "source": []
    }
  ],
  "metadata": {
    "kernelspec": {
      "display_name": "Python 3",
      "language": "python",
      "name": "python3"
    },
    "language_info": {
      "codemirror_mode": {
        "name": "ipython",
        "version": 3
      },
      "file_extension": ".py",
      "mimetype": "text/x-python",
      "name": "python",
      "nbconvert_exporter": "python",
      "pygments_lexer": "ipython3",
      "version": "3.8.8"
    },
    "colab": {
      "provenance": [],
      "include_colab_link": true
    }
  },
  "nbformat": 4,
  "nbformat_minor": 5
}