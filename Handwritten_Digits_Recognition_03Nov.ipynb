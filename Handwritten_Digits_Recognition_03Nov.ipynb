{
  "cells": [
    {
      "cell_type": "markdown",
      "metadata": {
        "id": "view-in-github",
        "colab_type": "text"
      },
      "source": [
        "<a href=\"https://colab.research.google.com/github/Mouli1704/Innomatics_Hackathon_31-08-2024/blob/main/Handwritten_Digits_Recognition_03Nov.ipynb\" target=\"_parent\"><img src=\"https://colab.research.google.com/assets/colab-badge.svg\" alt=\"Open In Colab\"/></a>"
      ]
    },
    {
      "cell_type": "markdown",
      "id": "1c23e1ea",
      "metadata": {
        "id": "1c23e1ea"
      },
      "source": [
        "# Handwritten Digits Recognition\n",
        "--`MNIST DATABASE`"
      ]
    },
    {
      "cell_type": "code",
      "execution_count": null,
      "id": "8f45a622",
      "metadata": {
        "id": "8f45a622",
        "outputId": "7a4e0748-279a-4772-ef6a-847d639d7371"
      },
      "outputs": [
        {
          "name": "stderr",
          "output_type": "stream",
          "text": [
            "C:\\Users\\think\\anaconda3\\lib\\site-packages\\scipy\\__init__.py:138: UserWarning: A NumPy version >=1.16.5 and <1.23.0 is required for this version of SciPy (detected version 1.24.4)\n",
            "  warnings.warn(f\"A NumPy version >={np_minversion} and <{np_maxversion} is required for this version of \"\n"
          ]
        }
      ],
      "source": [
        "### Import key libraries\n",
        "import tensorflow as tf\n",
        "import matplotlib.pyplot as plt\n",
        "import seaborn as sns\n",
        "import pandas as pd\n",
        "import numpy as np\n",
        "import os\n",
        "import math\n",
        "import datetime\n",
        "import platform"
      ]
    },
    {
      "cell_type": "markdown",
      "id": "1318b6e7",
      "metadata": {
        "id": "1318b6e7"
      },
      "source": [
        "## Load the data\n",
        "The **training** dataset consists of `60,000` having dimension `28x28px` images of hand-written digits from `0` to `9`.\n",
        "\n",
        "The **test** dataset consists of `10,000` `28x28px` images."
      ]
    },
    {
      "cell_type": "code",
      "execution_count": null,
      "id": "25751fbd",
      "metadata": {
        "id": "25751fbd",
        "outputId": "4fdde02b-d9e6-4358-af7b-075de2a5eaeb"
      },
      "outputs": [
        {
          "name": "stdout",
          "output_type": "stream",
          "text": [
            "test dataset % is 14.285714285714285\n"
          ]
        }
      ],
      "source": [
        "print('test dataset % is', 10000/70000*100)"
      ]
    },
    {
      "cell_type": "markdown",
      "id": "68501607",
      "metadata": {
        "id": "68501607"
      },
      "source": [
        "### RECOMMENDED PLATFORM TO DOWNLOAD `MNIST` dataset\n",
        "https://www.tensorflow.org/datasets/catalog/mnist"
      ]
    },
    {
      "cell_type": "code",
      "execution_count": null,
      "id": "9d3ecf6b",
      "metadata": {
        "id": "9d3ecf6b"
      },
      "outputs": [],
      "source": [
        "mnist_dataset = tf.keras.datasets.mnist\n",
        "(x_train, y_train), (x_test, y_test) = mnist_dataset.load_data() #arrays"
      ]
    },
    {
      "cell_type": "markdown",
      "id": "d5af731b",
      "metadata": {
        "id": "d5af731b"
      },
      "source": [
        "![image.png](attachment:image.png)"
      ]
    },
    {
      "cell_type": "markdown",
      "id": "a20e44db",
      "metadata": {
        "id": "a20e44db"
      },
      "source": [
        "### Link for the MNIST Database\n",
        "https://paperswithcode.com/dataset/mnist"
      ]
    },
    {
      "cell_type": "markdown",
      "id": "36375f97",
      "metadata": {
        "id": "36375f97"
      },
      "source": [
        "### Benchmarking of different algorithms and their respective error\n",
        "\n",
        "https://yann.lecun.com/exdb/mnist/\n",
        "\n",
        "-- `PLEASE BE CAREFUL TO CLICK/OPEN THE LINK - DO IT IN INCOGNITO MODE`"
      ]
    },
    {
      "cell_type": "markdown",
      "id": "7f08a7bb",
      "metadata": {
        "id": "7f08a7bb"
      },
      "source": [
        "![image.png](attachment:image.png)"
      ]
    },
    {
      "cell_type": "code",
      "execution_count": null,
      "id": "1e611a3b",
      "metadata": {
        "id": "1e611a3b",
        "outputId": "9e938825-62db-4b59-91b6-b9db96ce3a35"
      },
      "outputs": [
        {
          "name": "stdout",
          "output_type": "stream",
          "text": [
            "Type of x_train: <class 'numpy.ndarray'>\n",
            "Dimension of the array x_train: 3\n"
          ]
        }
      ],
      "source": [
        "print('Type of x_train:', type(x_train))\n",
        "print('Dimension of the array x_train:', x_train.ndim)"
      ]
    },
    {
      "cell_type": "code",
      "execution_count": null,
      "id": "add496d4",
      "metadata": {
        "id": "add496d4",
        "outputId": "c20b75ee-8a45-4f50-f6b5-615085301915"
      },
      "outputs": [
        {
          "name": "stdout",
          "output_type": "stream",
          "text": [
            "x_train: (60000, 28, 28)\n"
          ]
        }
      ],
      "source": [
        "print('x_train:', x_train.shape)"
      ]
    },
    {
      "cell_type": "code",
      "execution_count": null,
      "id": "5df3c630",
      "metadata": {
        "id": "5df3c630",
        "outputId": "eec21c31-ce0d-42e9-aca5-b9d2c966f8bf"
      },
      "outputs": [
        {
          "data": {
            "text/plain": [
              "array([5, 0, 4, ..., 5, 6, 8], dtype=uint8)"
            ]
          },
          "execution_count": 6,
          "metadata": {},
          "output_type": "execute_result"
        }
      ],
      "source": [
        "y_train"
      ]
    },
    {
      "cell_type": "code",
      "execution_count": null,
      "id": "5cf8b88b",
      "metadata": {
        "id": "5cf8b88b",
        "outputId": "dc77bdb4-5ce4-4270-d8c4-ffb0713ec6d9"
      },
      "outputs": [
        {
          "name": "stdout",
          "output_type": "stream",
          "text": [
            "x_train (60000, 28, 28)\n",
            "y_train (60000,)\n",
            "x_test (10000, 28, 28)\n",
            "y_test (10000,)\n"
          ]
        }
      ],
      "source": [
        "print('x_train', x_train.shape)\n",
        "print('y_train', y_train.shape)\n",
        "print('x_test', x_test.shape)\n",
        "print('y_test', y_test.shape)"
      ]
    },
    {
      "cell_type": "markdown",
      "id": "73e28f7f",
      "metadata": {
        "id": "73e28f7f"
      },
      "source": [
        "![image.png](attachment:image.png)"
      ]
    },
    {
      "cell_type": "markdown",
      "id": "66d50bd9",
      "metadata": {
        "id": "66d50bd9"
      },
      "source": [
        "![image.png](attachment:image.png)"
      ]
    },
    {
      "cell_type": "markdown",
      "id": "20d2e4b2",
      "metadata": {
        "id": "20d2e4b2"
      },
      "source": [
        "### Let us explore the data a bit more"
      ]
    },
    {
      "cell_type": "code",
      "execution_count": null,
      "id": "bcef80b7",
      "metadata": {
        "id": "bcef80b7",
        "outputId": "236c03a1-5c17-48b2-f629-46cc5ab1861b"
      },
      "outputs": [
        {
          "data": {
            "text/html": [
              "<div>\n",
              "<style scoped>\n",
              "    .dataframe tbody tr th:only-of-type {\n",
              "        vertical-align: middle;\n",
              "    }\n",
              "\n",
              "    .dataframe tbody tr th {\n",
              "        vertical-align: top;\n",
              "    }\n",
              "\n",
              "    .dataframe thead th {\n",
              "        text-align: right;\n",
              "    }\n",
              "</style>\n",
              "<table border=\"1\" class=\"dataframe\">\n",
              "  <thead>\n",
              "    <tr style=\"text-align: right;\">\n",
              "      <th></th>\n",
              "      <th>0</th>\n",
              "      <th>1</th>\n",
              "      <th>2</th>\n",
              "      <th>3</th>\n",
              "      <th>4</th>\n",
              "      <th>5</th>\n",
              "      <th>6</th>\n",
              "      <th>7</th>\n",
              "      <th>8</th>\n",
              "      <th>9</th>\n",
              "      <th>...</th>\n",
              "      <th>18</th>\n",
              "      <th>19</th>\n",
              "      <th>20</th>\n",
              "      <th>21</th>\n",
              "      <th>22</th>\n",
              "      <th>23</th>\n",
              "      <th>24</th>\n",
              "      <th>25</th>\n",
              "      <th>26</th>\n",
              "      <th>27</th>\n",
              "    </tr>\n",
              "  </thead>\n",
              "  <tbody>\n",
              "    <tr>\n",
              "      <th>0</th>\n",
              "      <td>0</td>\n",
              "      <td>0</td>\n",
              "      <td>0</td>\n",
              "      <td>0</td>\n",
              "      <td>0</td>\n",
              "      <td>0</td>\n",
              "      <td>0</td>\n",
              "      <td>0</td>\n",
              "      <td>0</td>\n",
              "      <td>0</td>\n",
              "      <td>...</td>\n",
              "      <td>0</td>\n",
              "      <td>0</td>\n",
              "      <td>0</td>\n",
              "      <td>0</td>\n",
              "      <td>0</td>\n",
              "      <td>0</td>\n",
              "      <td>0</td>\n",
              "      <td>0</td>\n",
              "      <td>0</td>\n",
              "      <td>0</td>\n",
              "    </tr>\n",
              "    <tr>\n",
              "      <th>1</th>\n",
              "      <td>0</td>\n",
              "      <td>0</td>\n",
              "      <td>0</td>\n",
              "      <td>0</td>\n",
              "      <td>0</td>\n",
              "      <td>0</td>\n",
              "      <td>0</td>\n",
              "      <td>0</td>\n",
              "      <td>0</td>\n",
              "      <td>0</td>\n",
              "      <td>...</td>\n",
              "      <td>0</td>\n",
              "      <td>0</td>\n",
              "      <td>0</td>\n",
              "      <td>0</td>\n",
              "      <td>0</td>\n",
              "      <td>0</td>\n",
              "      <td>0</td>\n",
              "      <td>0</td>\n",
              "      <td>0</td>\n",
              "      <td>0</td>\n",
              "    </tr>\n",
              "    <tr>\n",
              "      <th>2</th>\n",
              "      <td>0</td>\n",
              "      <td>0</td>\n",
              "      <td>0</td>\n",
              "      <td>0</td>\n",
              "      <td>0</td>\n",
              "      <td>0</td>\n",
              "      <td>0</td>\n",
              "      <td>0</td>\n",
              "      <td>0</td>\n",
              "      <td>0</td>\n",
              "      <td>...</td>\n",
              "      <td>0</td>\n",
              "      <td>0</td>\n",
              "      <td>0</td>\n",
              "      <td>0</td>\n",
              "      <td>0</td>\n",
              "      <td>0</td>\n",
              "      <td>0</td>\n",
              "      <td>0</td>\n",
              "      <td>0</td>\n",
              "      <td>0</td>\n",
              "    </tr>\n",
              "    <tr>\n",
              "      <th>3</th>\n",
              "      <td>0</td>\n",
              "      <td>0</td>\n",
              "      <td>0</td>\n",
              "      <td>0</td>\n",
              "      <td>0</td>\n",
              "      <td>0</td>\n",
              "      <td>0</td>\n",
              "      <td>0</td>\n",
              "      <td>0</td>\n",
              "      <td>0</td>\n",
              "      <td>...</td>\n",
              "      <td>0</td>\n",
              "      <td>0</td>\n",
              "      <td>0</td>\n",
              "      <td>0</td>\n",
              "      <td>0</td>\n",
              "      <td>0</td>\n",
              "      <td>0</td>\n",
              "      <td>0</td>\n",
              "      <td>0</td>\n",
              "      <td>0</td>\n",
              "    </tr>\n",
              "    <tr>\n",
              "      <th>4</th>\n",
              "      <td>0</td>\n",
              "      <td>0</td>\n",
              "      <td>0</td>\n",
              "      <td>0</td>\n",
              "      <td>0</td>\n",
              "      <td>0</td>\n",
              "      <td>0</td>\n",
              "      <td>0</td>\n",
              "      <td>0</td>\n",
              "      <td>0</td>\n",
              "      <td>...</td>\n",
              "      <td>0</td>\n",
              "      <td>0</td>\n",
              "      <td>0</td>\n",
              "      <td>0</td>\n",
              "      <td>0</td>\n",
              "      <td>0</td>\n",
              "      <td>0</td>\n",
              "      <td>0</td>\n",
              "      <td>0</td>\n",
              "      <td>0</td>\n",
              "    </tr>\n",
              "    <tr>\n",
              "      <th>5</th>\n",
              "      <td>0</td>\n",
              "      <td>0</td>\n",
              "      <td>0</td>\n",
              "      <td>0</td>\n",
              "      <td>0</td>\n",
              "      <td>0</td>\n",
              "      <td>0</td>\n",
              "      <td>0</td>\n",
              "      <td>0</td>\n",
              "      <td>0</td>\n",
              "      <td>...</td>\n",
              "      <td>253</td>\n",
              "      <td>253</td>\n",
              "      <td>174</td>\n",
              "      <td>6</td>\n",
              "      <td>0</td>\n",
              "      <td>0</td>\n",
              "      <td>0</td>\n",
              "      <td>0</td>\n",
              "      <td>0</td>\n",
              "      <td>0</td>\n",
              "    </tr>\n",
              "    <tr>\n",
              "      <th>6</th>\n",
              "      <td>0</td>\n",
              "      <td>0</td>\n",
              "      <td>0</td>\n",
              "      <td>0</td>\n",
              "      <td>0</td>\n",
              "      <td>0</td>\n",
              "      <td>0</td>\n",
              "      <td>0</td>\n",
              "      <td>0</td>\n",
              "      <td>43</td>\n",
              "      <td>...</td>\n",
              "      <td>252</td>\n",
              "      <td>252</td>\n",
              "      <td>252</td>\n",
              "      <td>158</td>\n",
              "      <td>14</td>\n",
              "      <td>0</td>\n",
              "      <td>0</td>\n",
              "      <td>0</td>\n",
              "      <td>0</td>\n",
              "      <td>0</td>\n",
              "    </tr>\n",
              "    <tr>\n",
              "      <th>7</th>\n",
              "      <td>0</td>\n",
              "      <td>0</td>\n",
              "      <td>0</td>\n",
              "      <td>0</td>\n",
              "      <td>0</td>\n",
              "      <td>0</td>\n",
              "      <td>0</td>\n",
              "      <td>0</td>\n",
              "      <td>0</td>\n",
              "      <td>178</td>\n",
              "      <td>...</td>\n",
              "      <td>252</td>\n",
              "      <td>252</td>\n",
              "      <td>252</td>\n",
              "      <td>252</td>\n",
              "      <td>59</td>\n",
              "      <td>0</td>\n",
              "      <td>0</td>\n",
              "      <td>0</td>\n",
              "      <td>0</td>\n",
              "      <td>0</td>\n",
              "    </tr>\n",
              "    <tr>\n",
              "      <th>8</th>\n",
              "      <td>0</td>\n",
              "      <td>0</td>\n",
              "      <td>0</td>\n",
              "      <td>0</td>\n",
              "      <td>0</td>\n",
              "      <td>0</td>\n",
              "      <td>0</td>\n",
              "      <td>0</td>\n",
              "      <td>0</td>\n",
              "      <td>109</td>\n",
              "      <td>...</td>\n",
              "      <td>252</td>\n",
              "      <td>252</td>\n",
              "      <td>252</td>\n",
              "      <td>252</td>\n",
              "      <td>59</td>\n",
              "      <td>0</td>\n",
              "      <td>0</td>\n",
              "      <td>0</td>\n",
              "      <td>0</td>\n",
              "      <td>0</td>\n",
              "    </tr>\n",
              "    <tr>\n",
              "      <th>9</th>\n",
              "      <td>0</td>\n",
              "      <td>0</td>\n",
              "      <td>0</td>\n",
              "      <td>0</td>\n",
              "      <td>0</td>\n",
              "      <td>0</td>\n",
              "      <td>0</td>\n",
              "      <td>0</td>\n",
              "      <td>0</td>\n",
              "      <td>4</td>\n",
              "      <td>...</td>\n",
              "      <td>226</td>\n",
              "      <td>252</td>\n",
              "      <td>252</td>\n",
              "      <td>172</td>\n",
              "      <td>7</td>\n",
              "      <td>0</td>\n",
              "      <td>0</td>\n",
              "      <td>0</td>\n",
              "      <td>0</td>\n",
              "      <td>0</td>\n",
              "    </tr>\n",
              "    <tr>\n",
              "      <th>10</th>\n",
              "      <td>0</td>\n",
              "      <td>0</td>\n",
              "      <td>0</td>\n",
              "      <td>0</td>\n",
              "      <td>0</td>\n",
              "      <td>0</td>\n",
              "      <td>0</td>\n",
              "      <td>0</td>\n",
              "      <td>0</td>\n",
              "      <td>0</td>\n",
              "      <td>...</td>\n",
              "      <td>243</td>\n",
              "      <td>252</td>\n",
              "      <td>252</td>\n",
              "      <td>144</td>\n",
              "      <td>0</td>\n",
              "      <td>0</td>\n",
              "      <td>0</td>\n",
              "      <td>0</td>\n",
              "      <td>0</td>\n",
              "      <td>0</td>\n",
              "    </tr>\n",
              "    <tr>\n",
              "      <th>11</th>\n",
              "      <td>0</td>\n",
              "      <td>0</td>\n",
              "      <td>0</td>\n",
              "      <td>0</td>\n",
              "      <td>0</td>\n",
              "      <td>0</td>\n",
              "      <td>0</td>\n",
              "      <td>0</td>\n",
              "      <td>0</td>\n",
              "      <td>0</td>\n",
              "      <td>...</td>\n",
              "      <td>252</td>\n",
              "      <td>252</td>\n",
              "      <td>252</td>\n",
              "      <td>14</td>\n",
              "      <td>0</td>\n",
              "      <td>0</td>\n",
              "      <td>0</td>\n",
              "      <td>0</td>\n",
              "      <td>0</td>\n",
              "      <td>0</td>\n",
              "    </tr>\n",
              "    <tr>\n",
              "      <th>12</th>\n",
              "      <td>0</td>\n",
              "      <td>0</td>\n",
              "      <td>0</td>\n",
              "      <td>0</td>\n",
              "      <td>0</td>\n",
              "      <td>0</td>\n",
              "      <td>0</td>\n",
              "      <td>0</td>\n",
              "      <td>0</td>\n",
              "      <td>0</td>\n",
              "      <td>...</td>\n",
              "      <td>252</td>\n",
              "      <td>252</td>\n",
              "      <td>204</td>\n",
              "      <td>9</td>\n",
              "      <td>0</td>\n",
              "      <td>0</td>\n",
              "      <td>0</td>\n",
              "      <td>0</td>\n",
              "      <td>0</td>\n",
              "      <td>0</td>\n",
              "    </tr>\n",
              "    <tr>\n",
              "      <th>13</th>\n",
              "      <td>0</td>\n",
              "      <td>0</td>\n",
              "      <td>0</td>\n",
              "      <td>0</td>\n",
              "      <td>0</td>\n",
              "      <td>0</td>\n",
              "      <td>0</td>\n",
              "      <td>0</td>\n",
              "      <td>0</td>\n",
              "      <td>32</td>\n",
              "      <td>...</td>\n",
              "      <td>238</td>\n",
              "      <td>102</td>\n",
              "      <td>28</td>\n",
              "      <td>0</td>\n",
              "      <td>0</td>\n",
              "      <td>0</td>\n",
              "      <td>0</td>\n",
              "      <td>0</td>\n",
              "      <td>0</td>\n",
              "      <td>0</td>\n",
              "    </tr>\n",
              "    <tr>\n",
              "      <th>14</th>\n",
              "      <td>0</td>\n",
              "      <td>0</td>\n",
              "      <td>0</td>\n",
              "      <td>0</td>\n",
              "      <td>0</td>\n",
              "      <td>0</td>\n",
              "      <td>0</td>\n",
              "      <td>0</td>\n",
              "      <td>45</td>\n",
              "      <td>222</td>\n",
              "      <td>...</td>\n",
              "      <td>177</td>\n",
              "      <td>0</td>\n",
              "      <td>0</td>\n",
              "      <td>0</td>\n",
              "      <td>0</td>\n",
              "      <td>0</td>\n",
              "      <td>0</td>\n",
              "      <td>0</td>\n",
              "      <td>0</td>\n",
              "      <td>0</td>\n",
              "    </tr>\n",
              "    <tr>\n",
              "      <th>15</th>\n",
              "      <td>0</td>\n",
              "      <td>0</td>\n",
              "      <td>0</td>\n",
              "      <td>0</td>\n",
              "      <td>0</td>\n",
              "      <td>0</td>\n",
              "      <td>0</td>\n",
              "      <td>0</td>\n",
              "      <td>45</td>\n",
              "      <td>223</td>\n",
              "      <td>...</td>\n",
              "      <td>253</td>\n",
              "      <td>74</td>\n",
              "      <td>0</td>\n",
              "      <td>0</td>\n",
              "      <td>0</td>\n",
              "      <td>0</td>\n",
              "      <td>0</td>\n",
              "      <td>0</td>\n",
              "      <td>0</td>\n",
              "      <td>0</td>\n",
              "    </tr>\n",
              "    <tr>\n",
              "      <th>16</th>\n",
              "      <td>0</td>\n",
              "      <td>0</td>\n",
              "      <td>0</td>\n",
              "      <td>0</td>\n",
              "      <td>0</td>\n",
              "      <td>0</td>\n",
              "      <td>0</td>\n",
              "      <td>0</td>\n",
              "      <td>0</td>\n",
              "      <td>31</td>\n",
              "      <td>...</td>\n",
              "      <td>252</td>\n",
              "      <td>74</td>\n",
              "      <td>0</td>\n",
              "      <td>0</td>\n",
              "      <td>0</td>\n",
              "      <td>0</td>\n",
              "      <td>0</td>\n",
              "      <td>0</td>\n",
              "      <td>0</td>\n",
              "      <td>0</td>\n",
              "    </tr>\n",
              "    <tr>\n",
              "      <th>17</th>\n",
              "      <td>0</td>\n",
              "      <td>0</td>\n",
              "      <td>0</td>\n",
              "      <td>0</td>\n",
              "      <td>0</td>\n",
              "      <td>0</td>\n",
              "      <td>0</td>\n",
              "      <td>0</td>\n",
              "      <td>0</td>\n",
              "      <td>0</td>\n",
              "      <td>...</td>\n",
              "      <td>252</td>\n",
              "      <td>74</td>\n",
              "      <td>0</td>\n",
              "      <td>0</td>\n",
              "      <td>0</td>\n",
              "      <td>0</td>\n",
              "      <td>0</td>\n",
              "      <td>0</td>\n",
              "      <td>0</td>\n",
              "      <td>0</td>\n",
              "    </tr>\n",
              "    <tr>\n",
              "      <th>18</th>\n",
              "      <td>0</td>\n",
              "      <td>0</td>\n",
              "      <td>0</td>\n",
              "      <td>0</td>\n",
              "      <td>0</td>\n",
              "      <td>0</td>\n",
              "      <td>0</td>\n",
              "      <td>0</td>\n",
              "      <td>0</td>\n",
              "      <td>0</td>\n",
              "      <td>...</td>\n",
              "      <td>252</td>\n",
              "      <td>74</td>\n",
              "      <td>0</td>\n",
              "      <td>0</td>\n",
              "      <td>0</td>\n",
              "      <td>0</td>\n",
              "      <td>0</td>\n",
              "      <td>0</td>\n",
              "      <td>0</td>\n",
              "      <td>0</td>\n",
              "    </tr>\n",
              "    <tr>\n",
              "      <th>19</th>\n",
              "      <td>0</td>\n",
              "      <td>0</td>\n",
              "      <td>0</td>\n",
              "      <td>0</td>\n",
              "      <td>0</td>\n",
              "      <td>0</td>\n",
              "      <td>5</td>\n",
              "      <td>75</td>\n",
              "      <td>9</td>\n",
              "      <td>0</td>\n",
              "      <td>...</td>\n",
              "      <td>252</td>\n",
              "      <td>74</td>\n",
              "      <td>0</td>\n",
              "      <td>0</td>\n",
              "      <td>0</td>\n",
              "      <td>0</td>\n",
              "      <td>0</td>\n",
              "      <td>0</td>\n",
              "      <td>0</td>\n",
              "      <td>0</td>\n",
              "    </tr>\n",
              "    <tr>\n",
              "      <th>20</th>\n",
              "      <td>0</td>\n",
              "      <td>0</td>\n",
              "      <td>0</td>\n",
              "      <td>0</td>\n",
              "      <td>0</td>\n",
              "      <td>61</td>\n",
              "      <td>183</td>\n",
              "      <td>252</td>\n",
              "      <td>29</td>\n",
              "      <td>0</td>\n",
              "      <td>...</td>\n",
              "      <td>243</td>\n",
              "      <td>65</td>\n",
              "      <td>0</td>\n",
              "      <td>0</td>\n",
              "      <td>0</td>\n",
              "      <td>0</td>\n",
              "      <td>0</td>\n",
              "      <td>0</td>\n",
              "      <td>0</td>\n",
              "      <td>0</td>\n",
              "    </tr>\n",
              "    <tr>\n",
              "      <th>21</th>\n",
              "      <td>0</td>\n",
              "      <td>0</td>\n",
              "      <td>0</td>\n",
              "      <td>0</td>\n",
              "      <td>0</td>\n",
              "      <td>208</td>\n",
              "      <td>252</td>\n",
              "      <td>252</td>\n",
              "      <td>147</td>\n",
              "      <td>134</td>\n",
              "      <td>...</td>\n",
              "      <td>83</td>\n",
              "      <td>0</td>\n",
              "      <td>0</td>\n",
              "      <td>0</td>\n",
              "      <td>0</td>\n",
              "      <td>0</td>\n",
              "      <td>0</td>\n",
              "      <td>0</td>\n",
              "      <td>0</td>\n",
              "      <td>0</td>\n",
              "    </tr>\n",
              "    <tr>\n",
              "      <th>22</th>\n",
              "      <td>0</td>\n",
              "      <td>0</td>\n",
              "      <td>0</td>\n",
              "      <td>0</td>\n",
              "      <td>0</td>\n",
              "      <td>208</td>\n",
              "      <td>252</td>\n",
              "      <td>252</td>\n",
              "      <td>252</td>\n",
              "      <td>252</td>\n",
              "      <td>...</td>\n",
              "      <td>0</td>\n",
              "      <td>0</td>\n",
              "      <td>0</td>\n",
              "      <td>0</td>\n",
              "      <td>0</td>\n",
              "      <td>0</td>\n",
              "      <td>0</td>\n",
              "      <td>0</td>\n",
              "      <td>0</td>\n",
              "      <td>0</td>\n",
              "    </tr>\n",
              "    <tr>\n",
              "      <th>23</th>\n",
              "      <td>0</td>\n",
              "      <td>0</td>\n",
              "      <td>0</td>\n",
              "      <td>0</td>\n",
              "      <td>0</td>\n",
              "      <td>49</td>\n",
              "      <td>157</td>\n",
              "      <td>252</td>\n",
              "      <td>252</td>\n",
              "      <td>252</td>\n",
              "      <td>...</td>\n",
              "      <td>0</td>\n",
              "      <td>0</td>\n",
              "      <td>0</td>\n",
              "      <td>0</td>\n",
              "      <td>0</td>\n",
              "      <td>0</td>\n",
              "      <td>0</td>\n",
              "      <td>0</td>\n",
              "      <td>0</td>\n",
              "      <td>0</td>\n",
              "    </tr>\n",
              "    <tr>\n",
              "      <th>24</th>\n",
              "      <td>0</td>\n",
              "      <td>0</td>\n",
              "      <td>0</td>\n",
              "      <td>0</td>\n",
              "      <td>0</td>\n",
              "      <td>0</td>\n",
              "      <td>7</td>\n",
              "      <td>103</td>\n",
              "      <td>235</td>\n",
              "      <td>252</td>\n",
              "      <td>...</td>\n",
              "      <td>0</td>\n",
              "      <td>0</td>\n",
              "      <td>0</td>\n",
              "      <td>0</td>\n",
              "      <td>0</td>\n",
              "      <td>0</td>\n",
              "      <td>0</td>\n",
              "      <td>0</td>\n",
              "      <td>0</td>\n",
              "      <td>0</td>\n",
              "    </tr>\n",
              "    <tr>\n",
              "      <th>25</th>\n",
              "      <td>0</td>\n",
              "      <td>0</td>\n",
              "      <td>0</td>\n",
              "      <td>0</td>\n",
              "      <td>0</td>\n",
              "      <td>0</td>\n",
              "      <td>0</td>\n",
              "      <td>0</td>\n",
              "      <td>0</td>\n",
              "      <td>0</td>\n",
              "      <td>...</td>\n",
              "      <td>0</td>\n",
              "      <td>0</td>\n",
              "      <td>0</td>\n",
              "      <td>0</td>\n",
              "      <td>0</td>\n",
              "      <td>0</td>\n",
              "      <td>0</td>\n",
              "      <td>0</td>\n",
              "      <td>0</td>\n",
              "      <td>0</td>\n",
              "    </tr>\n",
              "    <tr>\n",
              "      <th>26</th>\n",
              "      <td>0</td>\n",
              "      <td>0</td>\n",
              "      <td>0</td>\n",
              "      <td>0</td>\n",
              "      <td>0</td>\n",
              "      <td>0</td>\n",
              "      <td>0</td>\n",
              "      <td>0</td>\n",
              "      <td>0</td>\n",
              "      <td>0</td>\n",
              "      <td>...</td>\n",
              "      <td>0</td>\n",
              "      <td>0</td>\n",
              "      <td>0</td>\n",
              "      <td>0</td>\n",
              "      <td>0</td>\n",
              "      <td>0</td>\n",
              "      <td>0</td>\n",
              "      <td>0</td>\n",
              "      <td>0</td>\n",
              "      <td>0</td>\n",
              "    </tr>\n",
              "    <tr>\n",
              "      <th>27</th>\n",
              "      <td>0</td>\n",
              "      <td>0</td>\n",
              "      <td>0</td>\n",
              "      <td>0</td>\n",
              "      <td>0</td>\n",
              "      <td>0</td>\n",
              "      <td>0</td>\n",
              "      <td>0</td>\n",
              "      <td>0</td>\n",
              "      <td>0</td>\n",
              "      <td>...</td>\n",
              "      <td>0</td>\n",
              "      <td>0</td>\n",
              "      <td>0</td>\n",
              "      <td>0</td>\n",
              "      <td>0</td>\n",
              "      <td>0</td>\n",
              "      <td>0</td>\n",
              "      <td>0</td>\n",
              "      <td>0</td>\n",
              "      <td>0</td>\n",
              "    </tr>\n",
              "  </tbody>\n",
              "</table>\n",
              "<p>28 rows × 28 columns</p>\n",
              "</div>"
            ],
            "text/plain": [
              "    0   1   2   3   4    5    6    7    8    9   ...   18   19   20   21  22  \\\n",
              "0    0   0   0   0   0    0    0    0    0    0  ...    0    0    0    0   0   \n",
              "1    0   0   0   0   0    0    0    0    0    0  ...    0    0    0    0   0   \n",
              "2    0   0   0   0   0    0    0    0    0    0  ...    0    0    0    0   0   \n",
              "3    0   0   0   0   0    0    0    0    0    0  ...    0    0    0    0   0   \n",
              "4    0   0   0   0   0    0    0    0    0    0  ...    0    0    0    0   0   \n",
              "5    0   0   0   0   0    0    0    0    0    0  ...  253  253  174    6   0   \n",
              "6    0   0   0   0   0    0    0    0    0   43  ...  252  252  252  158  14   \n",
              "7    0   0   0   0   0    0    0    0    0  178  ...  252  252  252  252  59   \n",
              "8    0   0   0   0   0    0    0    0    0  109  ...  252  252  252  252  59   \n",
              "9    0   0   0   0   0    0    0    0    0    4  ...  226  252  252  172   7   \n",
              "10   0   0   0   0   0    0    0    0    0    0  ...  243  252  252  144   0   \n",
              "11   0   0   0   0   0    0    0    0    0    0  ...  252  252  252   14   0   \n",
              "12   0   0   0   0   0    0    0    0    0    0  ...  252  252  204    9   0   \n",
              "13   0   0   0   0   0    0    0    0    0   32  ...  238  102   28    0   0   \n",
              "14   0   0   0   0   0    0    0    0   45  222  ...  177    0    0    0   0   \n",
              "15   0   0   0   0   0    0    0    0   45  223  ...  253   74    0    0   0   \n",
              "16   0   0   0   0   0    0    0    0    0   31  ...  252   74    0    0   0   \n",
              "17   0   0   0   0   0    0    0    0    0    0  ...  252   74    0    0   0   \n",
              "18   0   0   0   0   0    0    0    0    0    0  ...  252   74    0    0   0   \n",
              "19   0   0   0   0   0    0    5   75    9    0  ...  252   74    0    0   0   \n",
              "20   0   0   0   0   0   61  183  252   29    0  ...  243   65    0    0   0   \n",
              "21   0   0   0   0   0  208  252  252  147  134  ...   83    0    0    0   0   \n",
              "22   0   0   0   0   0  208  252  252  252  252  ...    0    0    0    0   0   \n",
              "23   0   0   0   0   0   49  157  252  252  252  ...    0    0    0    0   0   \n",
              "24   0   0   0   0   0    0    7  103  235  252  ...    0    0    0    0   0   \n",
              "25   0   0   0   0   0    0    0    0    0    0  ...    0    0    0    0   0   \n",
              "26   0   0   0   0   0    0    0    0    0    0  ...    0    0    0    0   0   \n",
              "27   0   0   0   0   0    0    0    0    0    0  ...    0    0    0    0   0   \n",
              "\n",
              "    23  24  25  26  27  \n",
              "0    0   0   0   0   0  \n",
              "1    0   0   0   0   0  \n",
              "2    0   0   0   0   0  \n",
              "3    0   0   0   0   0  \n",
              "4    0   0   0   0   0  \n",
              "5    0   0   0   0   0  \n",
              "6    0   0   0   0   0  \n",
              "7    0   0   0   0   0  \n",
              "8    0   0   0   0   0  \n",
              "9    0   0   0   0   0  \n",
              "10   0   0   0   0   0  \n",
              "11   0   0   0   0   0  \n",
              "12   0   0   0   0   0  \n",
              "13   0   0   0   0   0  \n",
              "14   0   0   0   0   0  \n",
              "15   0   0   0   0   0  \n",
              "16   0   0   0   0   0  \n",
              "17   0   0   0   0   0  \n",
              "18   0   0   0   0   0  \n",
              "19   0   0   0   0   0  \n",
              "20   0   0   0   0   0  \n",
              "21   0   0   0   0   0  \n",
              "22   0   0   0   0   0  \n",
              "23   0   0   0   0   0  \n",
              "24   0   0   0   0   0  \n",
              "25   0   0   0   0   0  \n",
              "26   0   0   0   0   0  \n",
              "27   0   0   0   0   0  \n",
              "\n",
              "[28 rows x 28 columns]"
            ]
          },
          "execution_count": 8,
          "metadata": {},
          "output_type": "execute_result"
        }
      ],
      "source": [
        "pd.DataFrame(x_train[7]) # just one digit"
      ]
    },
    {
      "cell_type": "markdown",
      "id": "fd77a485",
      "metadata": {
        "id": "fd77a485"
      },
      "source": [
        "### Plotting the matrix of numbers"
      ]
    },
    {
      "cell_type": "code",
      "execution_count": null,
      "id": "933b3165",
      "metadata": {
        "id": "933b3165",
        "outputId": "e1eb5234-bab5-4911-d151-649a1637ffe6"
      },
      "outputs": [
        {
          "data": {
            "image/png": "[encoded data removed]",
            "text/plain": [
              "<Figure size 432x288 with 1 Axes>"
            ]
          },
          "metadata": {
            "needs_background": "light"
          },
          "output_type": "display_data"
        }
      ],
      "source": [
        "plt.figsize = (6,6)\n",
        "plt.imshow(x_train[7], cmap=plt.cm.binary)\n",
        "plt.show()"
      ]
    },
    {
      "cell_type": "code",
      "execution_count": null,
      "id": "808aaa4c",
      "metadata": {
        "id": "808aaa4c",
        "outputId": "aa21767d-9719-4f22-a11d-492a08f866f2"
      },
      "outputs": [
        {
          "data": {
            "image/png": "[encoded data removed]",
            "text/plain": [
              "<Figure size 432x288 with 1 Axes>"
            ]
          },
          "metadata": {
            "needs_background": "light"
          },
          "output_type": "display_data"
        }
      ],
      "source": [
        "plt.figsize = (6,6)\n",
        "plt.imshow(x_train[7], cmap='Greens')\n",
        "plt.show()"
      ]
    },
    {
      "cell_type": "code",
      "execution_count": null,
      "id": "52c0c83a",
      "metadata": {
        "id": "52c0c83a",
        "outputId": "6ec1d908-917e-49e4-e077-ccdad0c0236f"
      },
      "outputs": [
        {
          "data": {
            "image/png": "[encoded data removed]",
            "text/plain": [
              "<Figure size 432x288 with 1 Axes>"
            ]
          },
          "metadata": {
            "needs_background": "light"
          },
          "output_type": "display_data"
        }
      ],
      "source": [
        "plt.figsize = (6,6)\n",
        "plt.imshow(x_train[7], cmap='Blues')\n",
        "plt.show()"
      ]
    },
    {
      "cell_type": "markdown",
      "id": "9b240477",
      "metadata": {
        "id": "9b240477"
      },
      "source": [
        "#### `plt.imshow()` - function shows the pixel density"
      ]
    },
    {
      "cell_type": "code",
      "execution_count": null,
      "id": "1170fc9d",
      "metadata": {
        "id": "1170fc9d",
        "outputId": "95d74fab-4e81-4e68-a378-0f05e43babb9"
      },
      "outputs": [
        {
          "data": {
            "text/plain": [
              "4.242640687119285"
            ]
          },
          "execution_count": 12,
          "metadata": {},
          "output_type": "execute_result"
        }
      ],
      "source": [
        "math.sqrt(18)"
      ]
    },
    {
      "cell_type": "code",
      "execution_count": null,
      "id": "13f0432e",
      "metadata": {
        "id": "13f0432e",
        "outputId": "fb98aa11-662f-4315-d2ee-1022f4ee7ef5"
      },
      "outputs": [
        {
          "name": "stdout",
          "output_type": "stream",
          "text": [
            "5\n"
          ]
        }
      ],
      "source": [
        "n=18\n",
        "num_cells = math.ceil(math.sqrt(n)) #ceiling means take the higher perfect square number\n",
        "print(num_cells)"
      ]
    },
    {
      "cell_type": "markdown",
      "id": "a1c75d67",
      "metadata": {
        "id": "a1c75d67"
      },
      "source": [
        "### Plot top `25 or 16` images from the training dataset"
      ]
    },
    {
      "cell_type": "code",
      "execution_count": null,
      "id": "c70fc8d6",
      "metadata": {
        "id": "c70fc8d6",
        "outputId": "4973b4b7-912c-4b21-f9eb-4efc96e4c092"
      },
      "outputs": [
        {
          "data": {
            "image/png": "[encoded data removed]",
            "text/plain": [
              "<Figure size 720x720 with 25 Axes>"
            ]
          },
          "metadata": {
            "needs_background": "light"
          },
          "output_type": "display_data"
        }
      ],
      "source": [
        "n=18\n",
        "num_cells = math.ceil(math.sqrt(n))\n",
        "plt.figure(figsize=(10,10))\n",
        "\n",
        "for i in range(num_cells*num_cells):\n",
        "    plt.subplot(num_cells, num_cells, i+1)\n",
        "    plt.imshow(x_train[i], cmap=plt.cm.binary)\n",
        "\n",
        "plt.show()"
      ]
    },
    {
      "cell_type": "markdown",
      "id": "4032b327",
      "metadata": {
        "id": "4032b327"
      },
      "source": [
        "![image.png](attachment:image.png)"
      ]
    },
    {
      "cell_type": "code",
      "execution_count": null,
      "id": "d63559b9",
      "metadata": {
        "id": "d63559b9"
      },
      "outputs": [],
      "source": [
        "n=18\n",
        "num_cells = math.floor(math.sqrt(n))"
      ]
    },
    {
      "cell_type": "code",
      "execution_count": null,
      "id": "d89e6bb3",
      "metadata": {
        "id": "d89e6bb3",
        "outputId": "4d7bc0e9-6374-4921-8001-5e773cd423cc"
      },
      "outputs": [
        {
          "data": {
            "text/plain": [
              "4"
            ]
          },
          "execution_count": 16,
          "metadata": {},
          "output_type": "execute_result"
        }
      ],
      "source": [
        "num_cells"
      ]
    },
    {
      "cell_type": "code",
      "execution_count": null,
      "id": "42728795",
      "metadata": {
        "id": "42728795",
        "outputId": "8514beeb-4656-4e4d-ee12-3b4aece5bb92"
      },
      "outputs": [
        {
          "data": {
            "image/png": "[encoded data removed]",
            "text/plain": [
              "<Figure size 432x288 with 1 Axes>"
            ]
          },
          "metadata": {
            "needs_background": "light"
          },
          "output_type": "display_data"
        }
      ],
      "source": [
        "plt.figsize = (6,6)\n",
        "plt.imshow(x_train[3], cmap=plt.cm.binary)\n",
        "plt.show()"
      ]
    },
    {
      "cell_type": "markdown",
      "id": "db925104",
      "metadata": {
        "id": "db925104"
      },
      "source": [
        "### Let us normalize the data (`move range from **[0-255]** to [0-1])`"
      ]
    },
    {
      "cell_type": "code",
      "execution_count": null,
      "id": "a34bdf29",
      "metadata": {
        "id": "a34bdf29"
      },
      "outputs": [],
      "source": [
        "x_train_normalized = x_train/255\n",
        "x_test_normalized = x_test/255"
      ]
    },
    {
      "cell_type": "code",
      "execution_count": null,
      "id": "afd49d31",
      "metadata": {
        "id": "afd49d31",
        "outputId": "5bb941b3-a409-4a83-e76b-9d868f7841c4"
      },
      "outputs": [
        {
          "data": {
            "text/plain": [
              "(0.0, 1.0)"
            ]
          },
          "execution_count": 19,
          "metadata": {},
          "output_type": "execute_result"
        }
      ],
      "source": [
        "x_train_normalized.min(), x_train_normalized.max()"
      ]
    },
    {
      "cell_type": "code",
      "execution_count": null,
      "id": "bd37d576",
      "metadata": {
        "id": "bd37d576",
        "outputId": "2f8f4ba9-5b9c-4030-cb41-9253e0027290"
      },
      "outputs": [
        {
          "data": {
            "text/plain": [
              "(0.0, 1.0)"
            ]
          },
          "execution_count": 20,
          "metadata": {},
          "output_type": "execute_result"
        }
      ],
      "source": [
        "x_test_normalized.min(), x_test_normalized.max()"
      ]
    },
    {
      "cell_type": "markdown",
      "id": "f4b25a49",
      "metadata": {
        "id": "f4b25a49"
      },
      "source": [
        "### Before normalization"
      ]
    },
    {
      "cell_type": "code",
      "execution_count": null,
      "id": "d1cb1d4d",
      "metadata": {
        "id": "d1cb1d4d",
        "outputId": "130532da-690a-4ab9-8bb6-64a6c37a2141"
      },
      "outputs": [
        {
          "data": {
            "image/png": "[encoded data removed]",
            "text/plain": [
              "<Figure size 432x288 with 1 Axes>"
            ]
          },
          "metadata": {
            "needs_background": "light"
          },
          "output_type": "display_data"
        }
      ],
      "source": [
        "plt.figsize = (6,6)\n",
        "plt.imshow(x_train[7], cmap=plt.cm.binary) #before train\n",
        "plt.show()"
      ]
    },
    {
      "cell_type": "markdown",
      "id": "e0233f03",
      "metadata": {
        "id": "e0233f03"
      },
      "source": [
        "### After normalization"
      ]
    },
    {
      "cell_type": "code",
      "execution_count": null,
      "id": "e32410ed",
      "metadata": {
        "id": "e32410ed",
        "outputId": "3c19e1a2-e2ba-4d8b-a6cb-06e638859a43"
      },
      "outputs": [
        {
          "data": {
            "image/png": "[encoded data removed]",
            "text/plain": [
              "<Figure size 432x288 with 1 Axes>"
            ]
          },
          "metadata": {
            "needs_background": "light"
          },
          "output_type": "display_data"
        }
      ],
      "source": [
        "plt.figsize = (6,6)\n",
        "plt.imshow(x_train_normalized[7], cmap=plt.cm.binary) #after train\n",
        "plt.show()"
      ]
    },
    {
      "cell_type": "code",
      "execution_count": null,
      "id": "03370ed7",
      "metadata": {
        "id": "03370ed7",
        "outputId": "5dde383d-c510-4f9e-e46d-bc1502955f0b"
      },
      "outputs": [
        {
          "data": {
            "text/plain": [
              "(10000, 28, 28)"
            ]
          },
          "execution_count": 23,
          "metadata": {},
          "output_type": "execute_result"
        }
      ],
      "source": [
        "x_test.shape"
      ]
    },
    {
      "cell_type": "code",
      "execution_count": null,
      "id": "59aea076",
      "metadata": {
        "id": "59aea076",
        "outputId": "739d3c34-1889-4b7d-97cf-6d021f44e03c"
      },
      "outputs": [
        {
          "data": {
            "text/plain": [
              "array([7, 2, 1, ..., 4, 5, 6], dtype=uint8)"
            ]
          },
          "execution_count": 24,
          "metadata": {},
          "output_type": "execute_result"
        }
      ],
      "source": [
        "y_test"
      ]
    },
    {
      "cell_type": "markdown",
      "id": "05f20e0f",
      "metadata": {
        "id": "05f20e0f"
      },
      "source": [
        "## Let us build the model"
      ]
    },
    {
      "cell_type": "markdown",
      "id": "858bf1f6",
      "metadata": {
        "id": "858bf1f6"
      },
      "source": [
        "# Build the model\n",
        "\n",
        "We will use [Sequential](https://www.tensorflow.org/api_docs/python/tf/keras/Sequential?version=stable) Keras model with 4 layers:\n",
        "\n",
        "- Layer 1: [Flatten](https://www.tensorflow.org/api_docs/python/tf/keras/layers/Flatten?version=stable) layer that will flatten image 2D matrix into 1D vector.\n",
        "- Layer 2: **Input** [Dense](https://www.tensorflow.org/api_docs/python/tf/keras/layers/Dense?version=stable) layer with `128` neurons and [ReLU](https://www.tensorflow.org/api_docs/python/tf/keras/activations/relu?version=stable) activation.\n",
        "- Layer 3: **Hidden** [Dense](https://www.tensorflow.org/api_docs/python/tf/keras/layers/Dense?version=stable) layer with `128` neurons and [ReLU](https://www.tensorflow.org/api_docs/python/tf/keras/activations/relu?version=stable) activation.\n",
        "- Layer 4: **Output** [Dense](https://www.tensorflow.org/api_docs/python/tf/keras/layers/Dense?version=stable) layer with `10` [Softmax](https://www.tensorflow.org/api_docs/python/tf/keras/activations/softmax?version=stable) outputs. The output represents the network guess. The 0-th output represents a probability that the input digit is `0`, the 1-st output represents a probability that the input digit is `1` and so on...\n",
        "\n",
        "In this example we will use `kernel_regularizer` parameter of the layer to control overfitting of the model. `Another common approach to fight overfitting though might be using a [dropout layers](https://www.tensorflow.org/api_docs/python/tf/keras/layers/Dropout) (i.e. `tf.keras.layers.Dropout(0.2)`).`\n"
      ]
    },
    {
      "cell_type": "markdown",
      "id": "dae8697c",
      "metadata": {
        "id": "dae8697c"
      },
      "source": [
        "#### Two activation functions - `ReLU` and `Softmax`"
      ]
    },
    {
      "cell_type": "code",
      "execution_count": null,
      "id": "6dfa5e13",
      "metadata": {
        "id": "6dfa5e13"
      },
      "outputs": [],
      "source": [
        "model = tf.keras.models.Sequential() #gives you linear stack of layers - sequential --> meaning each layer output is input to the next layer\n",
        "\n",
        "### Input Layer\n",
        "model.add(tf.keras.layers.Flatten(input_shape = x_train_normalized.shape[1:])) #converts n-dimensional array to 1-D vector using flatten\n",
        "model.add(tf.keras.layers.Dense(\n",
        "    units=128,\n",
        "    activation = tf.keras.activations.relu,\n",
        "    kernel_regularizer = tf.keras.regularizers.l2(0.002)\n",
        "))\n",
        "\n",
        "### Hidden Layer -> Only ONE Hidden layer\n",
        "model.add(tf.keras.layers.Dense(\n",
        "    units=128,\n",
        "    activation = tf.keras.activations.relu,\n",
        "    kernel_regularizer = tf.keras.regularizers.l2(0.002)\n",
        "))\n",
        "\n",
        "### Output Layer\n",
        "model.add(tf.keras.layers.Dense(\n",
        "    units=10,\n",
        "    activation = tf.keras.activations.softmax\n",
        "))"
      ]
    },
    {
      "cell_type": "code",
      "execution_count": null,
      "id": "5f7e3b25",
      "metadata": {
        "id": "5f7e3b25",
        "outputId": "6ace4102-0fe6-4086-b873-53bc2b87019a"
      },
      "outputs": [
        {
          "name": "stdout",
          "output_type": "stream",
          "text": [
            "Model: \"sequential_1\"\n",
            "_________________________________________________________________\n",
            " Layer (type)                Output Shape              Param #   \n",
            "=================================================================\n",
            " flatten_1 (Flatten)         (None, 784)               0         \n",
            "                                                                 \n",
            " dense (Dense)               (None, 128)               100480    \n",
            "                                                                 \n",
            " dense_1 (Dense)             (None, 128)               16512     \n",
            "                                                                 \n",
            " dense_2 (Dense)             (None, 10)                1290      \n",
            "                                                                 \n",
            "=================================================================\n",
            "Total params: 118282 (462.04 KB)\n",
            "Trainable params: 118282 (462.04 KB)\n",
            "Non-trainable params: 0 (0.00 Byte)\n",
            "_________________________________________________________________\n"
          ]
        }
      ],
      "source": [
        "model.summary()"
      ]
    },
    {
      "cell_type": "code",
      "execution_count": null,
      "id": "df3c09b6",
      "metadata": {
        "id": "df3c09b6",
        "outputId": "f14f31b3-be65-4a30-a725-eebad8730a4d"
      },
      "outputs": [
        {
          "name": "stdout",
          "output_type": "stream",
          "text": [
            "Number of weights between input features and input neurons 100352\n",
            "Number of weights between input neurons and hidden layer 16384\n",
            "Number of weight between hidden layer and output layer 1280\n"
          ]
        }
      ],
      "source": [
        "print('Number of weights between input features and input neurons', 784*128)\n",
        "print('Number of weights between input neurons and hidden layer', 128*128)\n",
        "print('Number of weight between hidden layer and output layer', 128*10)"
      ]
    },
    {
      "cell_type": "code",
      "execution_count": null,
      "id": "048a97db",
      "metadata": {
        "id": "048a97db",
        "outputId": "1e0aaec3-5f51-4042-e639-629de741fd6c"
      },
      "outputs": [
        {
          "name": "stdout",
          "output_type": "stream",
          "text": [
            "Number of total weights across the NN architecture: 118016\n"
          ]
        }
      ],
      "source": [
        "print('Number of total weights across the NN architecture:',100352 +16384+1280)"
      ]
    },
    {
      "cell_type": "code",
      "execution_count": null,
      "id": "60dfeec7",
      "metadata": {
        "id": "60dfeec7",
        "outputId": "365aa124-7f0d-4300-f39c-66147fe1e1fd"
      },
      "outputs": [
        {
          "name": "stdout",
          "output_type": "stream",
          "text": [
            "Number of biases between input features and input neurons 128\n",
            "Number of biases between input neurons and hidden layer 128\n",
            "Number of biases between hidden layer and output layer 10\n"
          ]
        }
      ],
      "source": [
        "print('Number of biases between input features and input neurons', 128)\n",
        "print('Number of biases between input neurons and hidden layer', 128)\n",
        "print('Number of biases between hidden layer and output layer', 10)"
      ]
    },
    {
      "cell_type": "code",
      "execution_count": null,
      "id": "5bc1c528",
      "metadata": {
        "id": "5bc1c528",
        "outputId": "e7ec034c-8590-47e3-cc3e-05d402dbf856"
      },
      "outputs": [
        {
          "name": "stdout",
          "output_type": "stream",
          "text": [
            "Number of total biases across the NN architecture: 266\n"
          ]
        }
      ],
      "source": [
        "print('Number of total biases across the NN architecture:',128+128+10)"
      ]
    },
    {
      "cell_type": "code",
      "execution_count": null,
      "id": "ae3e42b4",
      "metadata": {
        "id": "ae3e42b4",
        "outputId": "532034c1-4816-417a-9bee-0b395dc98f17"
      },
      "outputs": [
        {
          "name": "stdout",
          "output_type": "stream",
          "text": [
            "Number of total trainable parameters across the NN architecture: 118282\n"
          ]
        }
      ],
      "source": [
        "print('Number of total trainable parameters across the NN architecture:',118016+266)"
      ]
    },
    {
      "cell_type": "markdown",
      "id": "fdf1ff94",
      "metadata": {
        "id": "fdf1ff94"
      },
      "source": [
        "**Param #** - column `param #` shows number of parameters (weights & biases) in each layer* which is used for learning during training*\n"
      ]
    },
    {
      "cell_type": "markdown",
      "id": "d9d8f06f",
      "metadata": {
        "id": "d9d8f06f"
      },
      "source": [
        "## Compile the model"
      ]
    },
    {
      "cell_type": "code",
      "execution_count": null,
      "id": "e8aebda2",
      "metadata": {
        "id": "e8aebda2"
      },
      "outputs": [],
      "source": [
        "adam_optimizer = tf.keras.optimizers.Adam(learning_rate=0.001)\n",
        "\n",
        "model.compile(\n",
        "optimizer=adam_optimizer,\n",
        "loss= tf.keras.losses.sparse_categorical_crossentropy,\n",
        "metrics=['accuracy']) #default batchsize is 32 which is standard"
      ]
    },
    {
      "cell_type": "markdown",
      "id": "f595df29",
      "metadata": {
        "id": "f595df29"
      },
      "source": [
        "## Train the model"
      ]
    },
    {
      "cell_type": "code",
      "execution_count": null,
      "id": "e7e39d46",
      "metadata": {
        "id": "e7e39d46",
        "outputId": "5c15e95a-1ad4-4964-b9cd-450451ac6fec"
      },
      "outputs": [
        {
          "name": "stdout",
          "output_type": "stream",
          "text": [
            "Epoch 1/10\n",
            "1875/1875 [==============================] - 4s 2ms/step - loss: 0.5196 - accuracy: 0.9226 - val_loss: 0.3294 - val_accuracy: 0.9501\n",
            "Epoch 2/10\n",
            "1875/1875 [==============================] - 3s 2ms/step - loss: 0.3003 - accuracy: 0.9550 - val_loss: 0.2677 - val_accuracy: 0.9587\n",
            "Epoch 3/10\n",
            "1875/1875 [==============================] - 3s 2ms/step - loss: 0.2606 - accuracy: 0.9602 - val_loss: 0.2288 - val_accuracy: 0.9696\n",
            "Epoch 4/10\n",
            "1875/1875 [==============================] - 3s 2ms/step - loss: 0.2369 - accuracy: 0.9642 - val_loss: 0.2719 - val_accuracy: 0.9506\n",
            "Epoch 5/10\n",
            "1875/1875 [==============================] - 3s 2ms/step - loss: 0.2232 - accuracy: 0.9653 - val_loss: 0.2185 - val_accuracy: 0.9655\n",
            "Epoch 6/10\n",
            "1875/1875 [==============================] - 3s 2ms/step - loss: 0.2117 - accuracy: 0.9669 - val_loss: 0.1934 - val_accuracy: 0.9698\n",
            "Epoch 7/10\n",
            "1875/1875 [==============================] - 3s 2ms/step - loss: 0.2047 - accuracy: 0.9674 - val_loss: 0.2011 - val_accuracy: 0.9661\n",
            "Epoch 8/10\n",
            "1875/1875 [==============================] - 3s 2ms/step - loss: 0.2008 - accuracy: 0.9670 - val_loss: 0.1994 - val_accuracy: 0.9673\n",
            "Epoch 9/10\n",
            "1875/1875 [==============================] - 3s 2ms/step - loss: 0.1936 - accuracy: 0.9687 - val_loss: 0.2019 - val_accuracy: 0.9627\n",
            "Epoch 10/10\n",
            "1875/1875 [==============================] - 3s 2ms/step - loss: 0.1916 - accuracy: 0.9687 - val_loss: 0.1956 - val_accuracy: 0.9673\n"
          ]
        }
      ],
      "source": [
        "training_hist = model.fit(\n",
        "x_train_normalized, y_train, epochs=10, validation_data=(x_test_normalized, y_test))"
      ]
    },
    {
      "cell_type": "markdown",
      "id": "4105e6d6",
      "metadata": {
        "id": "4105e6d6"
      },
      "source": [
        "## Plot the accuracy and loss function charts against # epochs"
      ]
    },
    {
      "cell_type": "markdown",
      "id": "1f834081",
      "metadata": {
        "id": "1f834081"
      },
      "source": [
        "`for refrence`\n",
        "![image.png](attachment:image.png)"
      ]
    },
    {
      "cell_type": "markdown",
      "id": "3a031eac",
      "metadata": {
        "id": "3a031eac"
      },
      "source": [
        "# Tasks for the next session"
      ]
    },
    {
      "cell_type": "markdown",
      "id": "b41e7d79",
      "metadata": {
        "id": "b41e7d79"
      },
      "source": [
        "Step #1: Write the module for taking input as a handwritten digit and convert it into the desirable array form\n",
        "\n",
        "Step #2: Use the trained model (basis 60,000 images of handwritten digits) to predit the digit you just took as input"
      ]
    },
    {
      "cell_type": "code",
      "execution_count": null,
      "id": "b2607def",
      "metadata": {
        "id": "b2607def"
      },
      "outputs": [],
      "source": []
    }
  ],
  "metadata": {
    "kernelspec": {
      "display_name": "Python 3",
      "language": "python",
      "name": "python3"
    },
    "language_info": {
      "codemirror_mode": {
        "name": "ipython",
        "version": 3
      },
      "file_extension": ".py",
      "mimetype": "text/x-python",
      "name": "python",
      "nbconvert_exporter": "python",
      "pygments_lexer": "ipython3",
      "version": "3.8.8"
    },
    "colab": {
      "provenance": [],
      "include_colab_link": true
    }
  },
  "nbformat": 4,
  "nbformat_minor": 5
}